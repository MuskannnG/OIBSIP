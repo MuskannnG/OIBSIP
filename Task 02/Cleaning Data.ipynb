{
 "cells": [
  {
   "cell_type": "markdown",
   "id": "8024baff-feed-4b24-8ab5-226127d3ef79",
   "metadata": {},
   "source": [
    "# TASK 02 : CLEANING DATA"
   ]
  },
  {
   "cell_type": "markdown",
   "id": "9a6d7f7b-e432-4214-8e46-8e177dca0fc1",
   "metadata": {},
   "source": [
    "Name : Muskan Giri"
   ]
  },
  {
   "cell_type": "markdown",
   "id": "b07290d6-0ecf-45e7-b7ec-b76d91d2801d",
   "metadata": {},
   "source": [
    "Domain : Data Analytics"
   ]
  },
  {
   "cell_type": "markdown",
   "id": "fdb195a5-b13b-4fff-94b3-0d444f7299b0",
   "metadata": {},
   "source": [
    "Oasis Infobyte Internship"
   ]
  },
  {
   "cell_type": "markdown",
   "id": "839c11a3-b74b-4352-8dbc-c2d820c55603",
   "metadata": {},
   "source": [
    "### Step 01: Import Libraries and Load Datasets"
   ]
  },
  {
   "cell_type": "code",
   "execution_count": 58,
   "id": "7ff82926-26d8-4e63-bd73-0917aaa8e9e7",
   "metadata": {},
   "outputs": [],
   "source": [
    "# Importing important Libraries\n",
    "import pandas as pd\n",
    "import numpy as np\n",
    "import matplotlib.pyplot as plt\n",
    "from sklearn.preprocessing import StandardScaler"
   ]
  },
  {
   "cell_type": "code",
   "execution_count": 41,
   "id": "3c27a46a-57c8-46d1-95d8-72a22b76546b",
   "metadata": {},
   "outputs": [],
   "source": [
    "# Loading the Dataset\n",
    "df=pd.read_csv('AB_NYC_2019.csv')"
   ]
  },
  {
   "cell_type": "markdown",
   "id": "f3b86969-145a-4879-bb7a-9e3d45fcce6b",
   "metadata": {},
   "source": [
    "### Step 02:  Data Integrity"
   ]
  },
  {
   "cell_type": "code",
   "execution_count": 4,
   "id": "464e46bd-78a9-43a8-a0d2-14cfa957ee73",
   "metadata": {},
   "outputs": [
    {
     "data": {
      "text/html": [
       "<div>\n",
       "<style scoped>\n",
       "    .dataframe tbody tr th:only-of-type {\n",
       "        vertical-align: middle;\n",
       "    }\n",
       "\n",
       "    .dataframe tbody tr th {\n",
       "        vertical-align: top;\n",
       "    }\n",
       "\n",
       "    .dataframe thead th {\n",
       "        text-align: right;\n",
       "    }\n",
       "</style>\n",
       "<table border=\"1\" class=\"dataframe\">\n",
       "  <thead>\n",
       "    <tr style=\"text-align: right;\">\n",
       "      <th></th>\n",
       "      <th>id</th>\n",
       "      <th>name</th>\n",
       "      <th>host_id</th>\n",
       "      <th>host_name</th>\n",
       "      <th>neighbourhood_group</th>\n",
       "      <th>neighbourhood</th>\n",
       "      <th>latitude</th>\n",
       "      <th>longitude</th>\n",
       "      <th>room_type</th>\n",
       "      <th>price</th>\n",
       "      <th>minimum_nights</th>\n",
       "      <th>number_of_reviews</th>\n",
       "      <th>last_review</th>\n",
       "      <th>reviews_per_month</th>\n",
       "      <th>calculated_host_listings_count</th>\n",
       "      <th>availability_365</th>\n",
       "    </tr>\n",
       "  </thead>\n",
       "  <tbody>\n",
       "    <tr>\n",
       "      <th>0</th>\n",
       "      <td>2539</td>\n",
       "      <td>Clean &amp; quiet apt home by the park</td>\n",
       "      <td>2787</td>\n",
       "      <td>John</td>\n",
       "      <td>Brooklyn</td>\n",
       "      <td>Kensington</td>\n",
       "      <td>40.64749</td>\n",
       "      <td>-73.97237</td>\n",
       "      <td>Private room</td>\n",
       "      <td>149</td>\n",
       "      <td>1</td>\n",
       "      <td>9</td>\n",
       "      <td>2018-10-19</td>\n",
       "      <td>0.21</td>\n",
       "      <td>6</td>\n",
       "      <td>365</td>\n",
       "    </tr>\n",
       "    <tr>\n",
       "      <th>1</th>\n",
       "      <td>2595</td>\n",
       "      <td>Skylit Midtown Castle</td>\n",
       "      <td>2845</td>\n",
       "      <td>Jennifer</td>\n",
       "      <td>Manhattan</td>\n",
       "      <td>Midtown</td>\n",
       "      <td>40.75362</td>\n",
       "      <td>-73.98377</td>\n",
       "      <td>Entire home/apt</td>\n",
       "      <td>225</td>\n",
       "      <td>1</td>\n",
       "      <td>45</td>\n",
       "      <td>2019-05-21</td>\n",
       "      <td>0.38</td>\n",
       "      <td>2</td>\n",
       "      <td>355</td>\n",
       "    </tr>\n",
       "    <tr>\n",
       "      <th>2</th>\n",
       "      <td>3647</td>\n",
       "      <td>THE VILLAGE OF HARLEM....NEW YORK !</td>\n",
       "      <td>4632</td>\n",
       "      <td>Elisabeth</td>\n",
       "      <td>Manhattan</td>\n",
       "      <td>Harlem</td>\n",
       "      <td>40.80902</td>\n",
       "      <td>-73.94190</td>\n",
       "      <td>Private room</td>\n",
       "      <td>150</td>\n",
       "      <td>3</td>\n",
       "      <td>0</td>\n",
       "      <td>NaN</td>\n",
       "      <td>NaN</td>\n",
       "      <td>1</td>\n",
       "      <td>365</td>\n",
       "    </tr>\n",
       "    <tr>\n",
       "      <th>3</th>\n",
       "      <td>3831</td>\n",
       "      <td>Cozy Entire Floor of Brownstone</td>\n",
       "      <td>4869</td>\n",
       "      <td>LisaRoxanne</td>\n",
       "      <td>Brooklyn</td>\n",
       "      <td>Clinton Hill</td>\n",
       "      <td>40.68514</td>\n",
       "      <td>-73.95976</td>\n",
       "      <td>Entire home/apt</td>\n",
       "      <td>89</td>\n",
       "      <td>1</td>\n",
       "      <td>270</td>\n",
       "      <td>2019-07-05</td>\n",
       "      <td>4.64</td>\n",
       "      <td>1</td>\n",
       "      <td>194</td>\n",
       "    </tr>\n",
       "    <tr>\n",
       "      <th>4</th>\n",
       "      <td>5022</td>\n",
       "      <td>Entire Apt: Spacious Studio/Loft by central park</td>\n",
       "      <td>7192</td>\n",
       "      <td>Laura</td>\n",
       "      <td>Manhattan</td>\n",
       "      <td>East Harlem</td>\n",
       "      <td>40.79851</td>\n",
       "      <td>-73.94399</td>\n",
       "      <td>Entire home/apt</td>\n",
       "      <td>80</td>\n",
       "      <td>10</td>\n",
       "      <td>9</td>\n",
       "      <td>2018-11-19</td>\n",
       "      <td>0.10</td>\n",
       "      <td>1</td>\n",
       "      <td>0</td>\n",
       "    </tr>\n",
       "  </tbody>\n",
       "</table>\n",
       "</div>"
      ],
      "text/plain": [
       "     id                                              name  host_id  \\\n",
       "0  2539                Clean & quiet apt home by the park     2787   \n",
       "1  2595                             Skylit Midtown Castle     2845   \n",
       "2  3647               THE VILLAGE OF HARLEM....NEW YORK !     4632   \n",
       "3  3831                   Cozy Entire Floor of Brownstone     4869   \n",
       "4  5022  Entire Apt: Spacious Studio/Loft by central park     7192   \n",
       "\n",
       "     host_name neighbourhood_group neighbourhood  latitude  longitude  \\\n",
       "0         John            Brooklyn    Kensington  40.64749  -73.97237   \n",
       "1     Jennifer           Manhattan       Midtown  40.75362  -73.98377   \n",
       "2    Elisabeth           Manhattan        Harlem  40.80902  -73.94190   \n",
       "3  LisaRoxanne            Brooklyn  Clinton Hill  40.68514  -73.95976   \n",
       "4        Laura           Manhattan   East Harlem  40.79851  -73.94399   \n",
       "\n",
       "         room_type  price  minimum_nights  number_of_reviews last_review  \\\n",
       "0     Private room    149               1                  9  2018-10-19   \n",
       "1  Entire home/apt    225               1                 45  2019-05-21   \n",
       "2     Private room    150               3                  0         NaN   \n",
       "3  Entire home/apt     89               1                270  2019-07-05   \n",
       "4  Entire home/apt     80              10                  9  2018-11-19   \n",
       "\n",
       "   reviews_per_month  calculated_host_listings_count  availability_365  \n",
       "0               0.21                               6               365  \n",
       "1               0.38                               2               355  \n",
       "2                NaN                               1               365  \n",
       "3               4.64                               1               194  \n",
       "4               0.10                               1                 0  "
      ]
     },
     "execution_count": 4,
     "metadata": {},
     "output_type": "execute_result"
    }
   ],
   "source": [
    "df.head()"
   ]
  },
  {
   "cell_type": "code",
   "execution_count": 5,
   "id": "480052f5-c970-4fba-808a-1ef718e5f823",
   "metadata": {},
   "outputs": [
    {
     "data": {
      "text/plain": [
       "(48895, 16)"
      ]
     },
     "execution_count": 5,
     "metadata": {},
     "output_type": "execute_result"
    }
   ],
   "source": [
    "df.shape"
   ]
  },
  {
   "cell_type": "code",
   "execution_count": 6,
   "id": "948db439-2c0a-4dbc-ab3e-a52abefb0e69",
   "metadata": {},
   "outputs": [
    {
     "data": {
      "text/plain": [
       "Index(['id', 'name', 'host_id', 'host_name', 'neighbourhood_group',\n",
       "       'neighbourhood', 'latitude', 'longitude', 'room_type', 'price',\n",
       "       'minimum_nights', 'number_of_reviews', 'last_review',\n",
       "       'reviews_per_month', 'calculated_host_listings_count',\n",
       "       'availability_365'],\n",
       "      dtype='object')"
      ]
     },
     "execution_count": 6,
     "metadata": {},
     "output_type": "execute_result"
    }
   ],
   "source": [
    "df.columns"
   ]
  },
  {
   "cell_type": "code",
   "execution_count": 7,
   "id": "39a20bb7-0943-4082-9e19-864211877b9d",
   "metadata": {},
   "outputs": [
    {
     "name": "stdout",
     "output_type": "stream",
     "text": [
      "<class 'pandas.core.frame.DataFrame'>\n",
      "RangeIndex: 48895 entries, 0 to 48894\n",
      "Data columns (total 16 columns):\n",
      " #   Column                          Non-Null Count  Dtype  \n",
      "---  ------                          --------------  -----  \n",
      " 0   id                              48895 non-null  int64  \n",
      " 1   name                            48879 non-null  object \n",
      " 2   host_id                         48895 non-null  int64  \n",
      " 3   host_name                       48874 non-null  object \n",
      " 4   neighbourhood_group             48895 non-null  object \n",
      " 5   neighbourhood                   48895 non-null  object \n",
      " 6   latitude                        48895 non-null  float64\n",
      " 7   longitude                       48895 non-null  float64\n",
      " 8   room_type                       48895 non-null  object \n",
      " 9   price                           48895 non-null  int64  \n",
      " 10  minimum_nights                  48895 non-null  int64  \n",
      " 11  number_of_reviews               48895 non-null  int64  \n",
      " 12  last_review                     38843 non-null  object \n",
      " 13  reviews_per_month               38843 non-null  float64\n",
      " 14  calculated_host_listings_count  48895 non-null  int64  \n",
      " 15  availability_365                48895 non-null  int64  \n",
      "dtypes: float64(3), int64(7), object(6)\n",
      "memory usage: 6.0+ MB\n"
     ]
    }
   ],
   "source": [
    "df.info()"
   ]
  },
  {
   "cell_type": "code",
   "execution_count": 8,
   "id": "355b3030-62fe-4c44-9a1d-e3ae73534492",
   "metadata": {},
   "outputs": [
    {
     "data": {
      "text/html": [
       "<div>\n",
       "<style scoped>\n",
       "    .dataframe tbody tr th:only-of-type {\n",
       "        vertical-align: middle;\n",
       "    }\n",
       "\n",
       "    .dataframe tbody tr th {\n",
       "        vertical-align: top;\n",
       "    }\n",
       "\n",
       "    .dataframe thead th {\n",
       "        text-align: right;\n",
       "    }\n",
       "</style>\n",
       "<table border=\"1\" class=\"dataframe\">\n",
       "  <thead>\n",
       "    <tr style=\"text-align: right;\">\n",
       "      <th></th>\n",
       "      <th>id</th>\n",
       "      <th>host_id</th>\n",
       "      <th>latitude</th>\n",
       "      <th>longitude</th>\n",
       "      <th>price</th>\n",
       "      <th>minimum_nights</th>\n",
       "      <th>number_of_reviews</th>\n",
       "      <th>reviews_per_month</th>\n",
       "      <th>calculated_host_listings_count</th>\n",
       "      <th>availability_365</th>\n",
       "    </tr>\n",
       "  </thead>\n",
       "  <tbody>\n",
       "    <tr>\n",
       "      <th>count</th>\n",
       "      <td>4.889500e+04</td>\n",
       "      <td>4.889500e+04</td>\n",
       "      <td>48895.000000</td>\n",
       "      <td>48895.000000</td>\n",
       "      <td>48895.000000</td>\n",
       "      <td>48895.000000</td>\n",
       "      <td>48895.000000</td>\n",
       "      <td>38843.000000</td>\n",
       "      <td>48895.000000</td>\n",
       "      <td>48895.000000</td>\n",
       "    </tr>\n",
       "    <tr>\n",
       "      <th>mean</th>\n",
       "      <td>1.901714e+07</td>\n",
       "      <td>6.762001e+07</td>\n",
       "      <td>40.728949</td>\n",
       "      <td>-73.952170</td>\n",
       "      <td>152.720687</td>\n",
       "      <td>7.029962</td>\n",
       "      <td>23.274466</td>\n",
       "      <td>1.373221</td>\n",
       "      <td>7.143982</td>\n",
       "      <td>112.781327</td>\n",
       "    </tr>\n",
       "    <tr>\n",
       "      <th>std</th>\n",
       "      <td>1.098311e+07</td>\n",
       "      <td>7.861097e+07</td>\n",
       "      <td>0.054530</td>\n",
       "      <td>0.046157</td>\n",
       "      <td>240.154170</td>\n",
       "      <td>20.510550</td>\n",
       "      <td>44.550582</td>\n",
       "      <td>1.680442</td>\n",
       "      <td>32.952519</td>\n",
       "      <td>131.622289</td>\n",
       "    </tr>\n",
       "    <tr>\n",
       "      <th>min</th>\n",
       "      <td>2.539000e+03</td>\n",
       "      <td>2.438000e+03</td>\n",
       "      <td>40.499790</td>\n",
       "      <td>-74.244420</td>\n",
       "      <td>0.000000</td>\n",
       "      <td>1.000000</td>\n",
       "      <td>0.000000</td>\n",
       "      <td>0.010000</td>\n",
       "      <td>1.000000</td>\n",
       "      <td>0.000000</td>\n",
       "    </tr>\n",
       "    <tr>\n",
       "      <th>25%</th>\n",
       "      <td>9.471945e+06</td>\n",
       "      <td>7.822033e+06</td>\n",
       "      <td>40.690100</td>\n",
       "      <td>-73.983070</td>\n",
       "      <td>69.000000</td>\n",
       "      <td>1.000000</td>\n",
       "      <td>1.000000</td>\n",
       "      <td>0.190000</td>\n",
       "      <td>1.000000</td>\n",
       "      <td>0.000000</td>\n",
       "    </tr>\n",
       "    <tr>\n",
       "      <th>50%</th>\n",
       "      <td>1.967728e+07</td>\n",
       "      <td>3.079382e+07</td>\n",
       "      <td>40.723070</td>\n",
       "      <td>-73.955680</td>\n",
       "      <td>106.000000</td>\n",
       "      <td>3.000000</td>\n",
       "      <td>5.000000</td>\n",
       "      <td>0.720000</td>\n",
       "      <td>1.000000</td>\n",
       "      <td>45.000000</td>\n",
       "    </tr>\n",
       "    <tr>\n",
       "      <th>75%</th>\n",
       "      <td>2.915218e+07</td>\n",
       "      <td>1.074344e+08</td>\n",
       "      <td>40.763115</td>\n",
       "      <td>-73.936275</td>\n",
       "      <td>175.000000</td>\n",
       "      <td>5.000000</td>\n",
       "      <td>24.000000</td>\n",
       "      <td>2.020000</td>\n",
       "      <td>2.000000</td>\n",
       "      <td>227.000000</td>\n",
       "    </tr>\n",
       "    <tr>\n",
       "      <th>max</th>\n",
       "      <td>3.648724e+07</td>\n",
       "      <td>2.743213e+08</td>\n",
       "      <td>40.913060</td>\n",
       "      <td>-73.712990</td>\n",
       "      <td>10000.000000</td>\n",
       "      <td>1250.000000</td>\n",
       "      <td>629.000000</td>\n",
       "      <td>58.500000</td>\n",
       "      <td>327.000000</td>\n",
       "      <td>365.000000</td>\n",
       "    </tr>\n",
       "  </tbody>\n",
       "</table>\n",
       "</div>"
      ],
      "text/plain": [
       "                 id       host_id      latitude     longitude         price  \\\n",
       "count  4.889500e+04  4.889500e+04  48895.000000  48895.000000  48895.000000   \n",
       "mean   1.901714e+07  6.762001e+07     40.728949    -73.952170    152.720687   \n",
       "std    1.098311e+07  7.861097e+07      0.054530      0.046157    240.154170   \n",
       "min    2.539000e+03  2.438000e+03     40.499790    -74.244420      0.000000   \n",
       "25%    9.471945e+06  7.822033e+06     40.690100    -73.983070     69.000000   \n",
       "50%    1.967728e+07  3.079382e+07     40.723070    -73.955680    106.000000   \n",
       "75%    2.915218e+07  1.074344e+08     40.763115    -73.936275    175.000000   \n",
       "max    3.648724e+07  2.743213e+08     40.913060    -73.712990  10000.000000   \n",
       "\n",
       "       minimum_nights  number_of_reviews  reviews_per_month  \\\n",
       "count    48895.000000       48895.000000       38843.000000   \n",
       "mean         7.029962          23.274466           1.373221   \n",
       "std         20.510550          44.550582           1.680442   \n",
       "min          1.000000           0.000000           0.010000   \n",
       "25%          1.000000           1.000000           0.190000   \n",
       "50%          3.000000           5.000000           0.720000   \n",
       "75%          5.000000          24.000000           2.020000   \n",
       "max       1250.000000         629.000000          58.500000   \n",
       "\n",
       "       calculated_host_listings_count  availability_365  \n",
       "count                    48895.000000      48895.000000  \n",
       "mean                         7.143982        112.781327  \n",
       "std                         32.952519        131.622289  \n",
       "min                          1.000000          0.000000  \n",
       "25%                          1.000000          0.000000  \n",
       "50%                          1.000000         45.000000  \n",
       "75%                          2.000000        227.000000  \n",
       "max                        327.000000        365.000000  "
      ]
     },
     "execution_count": 8,
     "metadata": {},
     "output_type": "execute_result"
    }
   ],
   "source": [
    "df.describe()"
   ]
  },
  {
   "cell_type": "code",
   "execution_count": 60,
   "id": "42b2e0b5-e8ab-4300-a4e0-e63941003e6e",
   "metadata": {},
   "outputs": [
    {
     "data": {
      "text/plain": [
       "0"
      ]
     },
     "execution_count": 60,
     "metadata": {},
     "output_type": "execute_result"
    }
   ],
   "source": [
    "df.duplicated().sum()"
   ]
  },
  {
   "cell_type": "markdown",
   "id": "1d46650c-b397-4528-9672-7d1a225e6730",
   "metadata": {},
   "source": [
    "There are no duplicated values"
   ]
  },
  {
   "cell_type": "markdown",
   "id": "6118a5c7-5ac9-4de7-910d-4b1a3e86a961",
   "metadata": {},
   "source": [
    "### Step 03:  Missing Data Handling"
   ]
  },
  {
   "cell_type": "code",
   "execution_count": 61,
   "id": "e72c8026-255d-438b-9c25-94e68f08b836",
   "metadata": {},
   "outputs": [
    {
     "data": {
      "text/plain": [
       "id                                0\n",
       "name                              0\n",
       "host_id                           0\n",
       "host_name                         0\n",
       "neighbourhood_group               0\n",
       "neighbourhood                     0\n",
       "latitude                          0\n",
       "longitude                         0\n",
       "room_type                         0\n",
       "price                             0\n",
       "minimum_nights                    0\n",
       "number_of_reviews                 0\n",
       "last_review                       0\n",
       "reviews_per_month                 0\n",
       "calculated_host_listings_count    0\n",
       "availability_365                  0\n",
       "dtype: int64"
      ]
     },
     "execution_count": 61,
     "metadata": {},
     "output_type": "execute_result"
    }
   ],
   "source": [
    "# Check for missing values\n",
    "\n",
    "df.isnull().sum()"
   ]
  },
  {
   "cell_type": "markdown",
   "id": "28726f5b-324a-4a51-a040-9e3fef52d630",
   "metadata": {},
   "source": [
    "### Step 04:  Replacing the NULL Values with appropriate values"
   ]
  },
  {
   "cell_type": "code",
   "execution_count": 62,
   "id": "0ed09f85-64d3-44b5-9eb0-f433d9102119",
   "metadata": {},
   "outputs": [],
   "source": [
    "df['name'].fillna('other hotel',inplace=True)\n",
    "df['host_name'].fillna('other',inplace=True)\n",
    "df['last_review'].fillna('Not Reviewed',inplace=True)\n",
    "df['reviews_per_month'].fillna('0',inplace=True)"
   ]
  },
  {
   "cell_type": "code",
   "execution_count": 63,
   "id": "11d8dbbf-79b3-4d57-be85-05a5ebc3ec99",
   "metadata": {},
   "outputs": [
    {
     "data": {
      "text/plain": [
       "id                                0\n",
       "name                              0\n",
       "host_id                           0\n",
       "host_name                         0\n",
       "neighbourhood_group               0\n",
       "neighbourhood                     0\n",
       "latitude                          0\n",
       "longitude                         0\n",
       "room_type                         0\n",
       "price                             0\n",
       "minimum_nights                    0\n",
       "number_of_reviews                 0\n",
       "last_review                       0\n",
       "reviews_per_month                 0\n",
       "calculated_host_listings_count    0\n",
       "availability_365                  0\n",
       "dtype: int64"
      ]
     },
     "execution_count": 63,
     "metadata": {},
     "output_type": "execute_result"
    }
   ],
   "source": [
    "df.isnull().sum()"
   ]
  },
  {
   "cell_type": "markdown",
   "id": "de4db7fc-f78c-437c-9475-cb85cad861cb",
   "metadata": {},
   "source": [
    "### Step 05:  Dropping the unnecessary columns"
   ]
  },
  {
   "cell_type": "code",
   "execution_count": 64,
   "id": "f8ecf73d-67cc-4be1-a020-cbf813a91279",
   "metadata": {},
   "outputs": [],
   "source": [
    "df.drop(['id','last_review','name','latitude','longitude',],axis=1,inplace=True)"
   ]
  },
  {
   "cell_type": "code",
   "execution_count": 65,
   "id": "8da1aad2-14c2-46df-a9a9-6e31a303f467",
   "metadata": {},
   "outputs": [
    {
     "data": {
      "text/html": [
       "<div>\n",
       "<style scoped>\n",
       "    .dataframe tbody tr th:only-of-type {\n",
       "        vertical-align: middle;\n",
       "    }\n",
       "\n",
       "    .dataframe tbody tr th {\n",
       "        vertical-align: top;\n",
       "    }\n",
       "\n",
       "    .dataframe thead th {\n",
       "        text-align: right;\n",
       "    }\n",
       "</style>\n",
       "<table border=\"1\" class=\"dataframe\">\n",
       "  <thead>\n",
       "    <tr style=\"text-align: right;\">\n",
       "      <th></th>\n",
       "      <th>host_id</th>\n",
       "      <th>host_name</th>\n",
       "      <th>neighbourhood_group</th>\n",
       "      <th>neighbourhood</th>\n",
       "      <th>room_type</th>\n",
       "      <th>price</th>\n",
       "      <th>minimum_nights</th>\n",
       "      <th>number_of_reviews</th>\n",
       "      <th>reviews_per_month</th>\n",
       "      <th>calculated_host_listings_count</th>\n",
       "      <th>availability_365</th>\n",
       "    </tr>\n",
       "  </thead>\n",
       "  <tbody>\n",
       "    <tr>\n",
       "      <th>0</th>\n",
       "      <td>2787</td>\n",
       "      <td>John</td>\n",
       "      <td>Brooklyn</td>\n",
       "      <td>Kensington</td>\n",
       "      <td>Private room</td>\n",
       "      <td>149</td>\n",
       "      <td>1</td>\n",
       "      <td>9</td>\n",
       "      <td>0.210000</td>\n",
       "      <td>6</td>\n",
       "      <td>365</td>\n",
       "    </tr>\n",
       "    <tr>\n",
       "      <th>1</th>\n",
       "      <td>2845</td>\n",
       "      <td>Jennifer</td>\n",
       "      <td>Manhattan</td>\n",
       "      <td>Midtown</td>\n",
       "      <td>Entire home/apt</td>\n",
       "      <td>225</td>\n",
       "      <td>1</td>\n",
       "      <td>45</td>\n",
       "      <td>0.380000</td>\n",
       "      <td>2</td>\n",
       "      <td>355</td>\n",
       "    </tr>\n",
       "    <tr>\n",
       "      <th>2</th>\n",
       "      <td>4632</td>\n",
       "      <td>Elisabeth</td>\n",
       "      <td>Manhattan</td>\n",
       "      <td>Harlem</td>\n",
       "      <td>Private room</td>\n",
       "      <td>150</td>\n",
       "      <td>3</td>\n",
       "      <td>0</td>\n",
       "      <td>1.373221</td>\n",
       "      <td>1</td>\n",
       "      <td>365</td>\n",
       "    </tr>\n",
       "    <tr>\n",
       "      <th>3</th>\n",
       "      <td>4869</td>\n",
       "      <td>LisaRoxanne</td>\n",
       "      <td>Brooklyn</td>\n",
       "      <td>Clinton Hill</td>\n",
       "      <td>Entire home/apt</td>\n",
       "      <td>89</td>\n",
       "      <td>1</td>\n",
       "      <td>270</td>\n",
       "      <td>4.640000</td>\n",
       "      <td>1</td>\n",
       "      <td>194</td>\n",
       "    </tr>\n",
       "    <tr>\n",
       "      <th>4</th>\n",
       "      <td>7192</td>\n",
       "      <td>Laura</td>\n",
       "      <td>Manhattan</td>\n",
       "      <td>East Harlem</td>\n",
       "      <td>Entire home/apt</td>\n",
       "      <td>80</td>\n",
       "      <td>10</td>\n",
       "      <td>9</td>\n",
       "      <td>0.100000</td>\n",
       "      <td>1</td>\n",
       "      <td>0</td>\n",
       "    </tr>\n",
       "  </tbody>\n",
       "</table>\n",
       "</div>"
      ],
      "text/plain": [
       "   host_id    host_name neighbourhood_group neighbourhood        room_type  \\\n",
       "0     2787         John            Brooklyn    Kensington     Private room   \n",
       "1     2845     Jennifer           Manhattan       Midtown  Entire home/apt   \n",
       "2     4632    Elisabeth           Manhattan        Harlem     Private room   \n",
       "3     4869  LisaRoxanne            Brooklyn  Clinton Hill  Entire home/apt   \n",
       "4     7192        Laura           Manhattan   East Harlem  Entire home/apt   \n",
       "\n",
       "   price  minimum_nights  number_of_reviews  reviews_per_month  \\\n",
       "0    149               1                  9           0.210000   \n",
       "1    225               1                 45           0.380000   \n",
       "2    150               3                  0           1.373221   \n",
       "3     89               1                270           4.640000   \n",
       "4     80              10                  9           0.100000   \n",
       "\n",
       "   calculated_host_listings_count  availability_365  \n",
       "0                               6               365  \n",
       "1                               2               355  \n",
       "2                               1               365  \n",
       "3                               1               194  \n",
       "4                               1                 0  "
      ]
     },
     "execution_count": 65,
     "metadata": {},
     "output_type": "execute_result"
    }
   ],
   "source": [
    "df.head()"
   ]
  },
  {
   "cell_type": "code",
   "execution_count": 19,
   "id": "78cb96a6-99e2-48a1-ae3c-71e8b455f6c7",
   "metadata": {},
   "outputs": [
    {
     "data": {
      "text/plain": [
       "(48895, 11)"
      ]
     },
     "execution_count": 19,
     "metadata": {},
     "output_type": "execute_result"
    }
   ],
   "source": [
    "df.shape"
   ]
  },
  {
   "cell_type": "markdown",
   "id": "bce8dc1d-abc4-484f-825e-5d3349fd43d7",
   "metadata": {},
   "source": [
    "## Step 6: Data Visualization"
   ]
  },
  {
   "cell_type": "markdown",
   "id": "11752121-30b2-4e19-9ad6-1de3d80d1dcd",
   "metadata": {},
   "source": [
    "#### Top 10 Host Name"
   ]
  },
  {
   "cell_type": "code",
   "execution_count": 66,
   "id": "91418ecc-6d3d-42ed-852f-af1b15dbdc0d",
   "metadata": {},
   "outputs": [],
   "source": [
    "#Getting the value counts\n",
    "\n",
    "x=df['host_name'].value_counts().iloc[:10]"
   ]
  },
  {
   "cell_type": "code",
   "execution_count": 67,
   "id": "76d0b702-447b-4ae4-82fb-4740cbd118b9",
   "metadata": {},
   "outputs": [
    {
     "data": {
      "text/plain": [
       "host_name\n",
       "Michael         417\n",
       "David           403\n",
       "Sonder (NYC)    327\n",
       "John            294\n",
       "Alex            279\n",
       "Blueground      232\n",
       "Sarah           227\n",
       "Daniel          226\n",
       "Jessica         205\n",
       "Maria           204\n",
       "Name: count, dtype: int64"
      ]
     },
     "execution_count": 67,
     "metadata": {},
     "output_type": "execute_result"
    }
   ],
   "source": [
    "x"
   ]
  },
  {
   "cell_type": "code",
   "execution_count": 68,
   "id": "2725b7bb-873f-4875-9b7a-57d7687b959d",
   "metadata": {},
   "outputs": [
    {
     "data": {
      "text/plain": [
       "Text(0.5, 1.0, 'Top 10 Host name performer')"
      ]
     },
     "execution_count": 68,
     "metadata": {},
     "output_type": "execute_result"
    },
    {
     "data": {
      "image/png": "[encoded data removed]",
      "text/plain": [
       "<Figure size 1000x600 with 1 Axes>"
      ]
     },
     "metadata": {},
     "output_type": "display_data"
    }
   ],
   "source": [
    "# Visualizing using bar plot\n",
    "x.plot(kind='bar',figsize=(10,6),color='b')\n",
    "plt.xlabel('host_name',size=10,color='r')\n",
    "plt.xticks(rotation =0)\n",
    "plt.title('Top 10 Host name performer',size=12,color='g')"
   ]
  },
  {
   "cell_type": "markdown",
   "id": "42452735-ba49-420f-98a8-ae71d439cbec",
   "metadata": {},
   "source": [
    "1. Host name is the name of the host who listed the hotel in the airbnb"
   ]
  },
  {
   "cell_type": "markdown",
   "id": "229b1c2c-4164-4236-89a4-12a339bf40c5",
   "metadata": {},
   "source": [
    "2. It looks like the person Michael has the largest booking under his name with 417 bookings"
   ]
  },
  {
   "cell_type": "markdown",
   "id": "29ad44b5-ac22-4271-9b5e-c6ebc9e3eccf",
   "metadata": {},
   "source": [
    "3. David is the host name with 403 bookings"
   ]
  },
  {
   "cell_type": "markdown",
   "id": "f200da35-ea57-42f0-bd4c-c0db13125ba2",
   "metadata": {},
   "source": [
    "#### Neighbourhood_group"
   ]
  },
  {
   "cell_type": "markdown",
   "id": "a7e73066-6bc6-40da-811f-001279c65730",
   "metadata": {},
   "source": [
    "Neighbourhood group means the name of each boroughs(a small town inside a large town) of NYC like Manhattan,Brooklyn,Queens, Bronx,State Island"
   ]
  },
  {
   "cell_type": "code",
   "execution_count": 69,
   "id": "e1022dff-930a-429d-a29b-d6be15bcadf9",
   "metadata": {},
   "outputs": [
    {
     "data": {
      "text/html": [
       "<div>\n",
       "<style scoped>\n",
       "    .dataframe tbody tr th:only-of-type {\n",
       "        vertical-align: middle;\n",
       "    }\n",
       "\n",
       "    .dataframe tbody tr th {\n",
       "        vertical-align: top;\n",
       "    }\n",
       "\n",
       "    .dataframe thead th {\n",
       "        text-align: right;\n",
       "    }\n",
       "</style>\n",
       "<table border=\"1\" class=\"dataframe\">\n",
       "  <thead>\n",
       "    <tr style=\"text-align: right;\">\n",
       "      <th></th>\n",
       "      <th>host_id</th>\n",
       "      <th>host_name</th>\n",
       "      <th>neighbourhood_group</th>\n",
       "      <th>neighbourhood</th>\n",
       "      <th>room_type</th>\n",
       "      <th>price</th>\n",
       "      <th>minimum_nights</th>\n",
       "      <th>number_of_reviews</th>\n",
       "      <th>reviews_per_month</th>\n",
       "      <th>calculated_host_listings_count</th>\n",
       "      <th>availability_365</th>\n",
       "    </tr>\n",
       "  </thead>\n",
       "  <tbody>\n",
       "    <tr>\n",
       "      <th>0</th>\n",
       "      <td>2787</td>\n",
       "      <td>John</td>\n",
       "      <td>Brooklyn</td>\n",
       "      <td>Kensington</td>\n",
       "      <td>Private room</td>\n",
       "      <td>149</td>\n",
       "      <td>1</td>\n",
       "      <td>9</td>\n",
       "      <td>0.210000</td>\n",
       "      <td>6</td>\n",
       "      <td>365</td>\n",
       "    </tr>\n",
       "    <tr>\n",
       "      <th>1</th>\n",
       "      <td>2845</td>\n",
       "      <td>Jennifer</td>\n",
       "      <td>Manhattan</td>\n",
       "      <td>Midtown</td>\n",
       "      <td>Entire home/apt</td>\n",
       "      <td>225</td>\n",
       "      <td>1</td>\n",
       "      <td>45</td>\n",
       "      <td>0.380000</td>\n",
       "      <td>2</td>\n",
       "      <td>355</td>\n",
       "    </tr>\n",
       "    <tr>\n",
       "      <th>2</th>\n",
       "      <td>4632</td>\n",
       "      <td>Elisabeth</td>\n",
       "      <td>Manhattan</td>\n",
       "      <td>Harlem</td>\n",
       "      <td>Private room</td>\n",
       "      <td>150</td>\n",
       "      <td>3</td>\n",
       "      <td>0</td>\n",
       "      <td>1.373221</td>\n",
       "      <td>1</td>\n",
       "      <td>365</td>\n",
       "    </tr>\n",
       "    <tr>\n",
       "      <th>3</th>\n",
       "      <td>4869</td>\n",
       "      <td>LisaRoxanne</td>\n",
       "      <td>Brooklyn</td>\n",
       "      <td>Clinton Hill</td>\n",
       "      <td>Entire home/apt</td>\n",
       "      <td>89</td>\n",
       "      <td>1</td>\n",
       "      <td>270</td>\n",
       "      <td>4.640000</td>\n",
       "      <td>1</td>\n",
       "      <td>194</td>\n",
       "    </tr>\n",
       "    <tr>\n",
       "      <th>4</th>\n",
       "      <td>7192</td>\n",
       "      <td>Laura</td>\n",
       "      <td>Manhattan</td>\n",
       "      <td>East Harlem</td>\n",
       "      <td>Entire home/apt</td>\n",
       "      <td>80</td>\n",
       "      <td>10</td>\n",
       "      <td>9</td>\n",
       "      <td>0.100000</td>\n",
       "      <td>1</td>\n",
       "      <td>0</td>\n",
       "    </tr>\n",
       "  </tbody>\n",
       "</table>\n",
       "</div>"
      ],
      "text/plain": [
       "   host_id    host_name neighbourhood_group neighbourhood        room_type  \\\n",
       "0     2787         John            Brooklyn    Kensington     Private room   \n",
       "1     2845     Jennifer           Manhattan       Midtown  Entire home/apt   \n",
       "2     4632    Elisabeth           Manhattan        Harlem     Private room   \n",
       "3     4869  LisaRoxanne            Brooklyn  Clinton Hill  Entire home/apt   \n",
       "4     7192        Laura           Manhattan   East Harlem  Entire home/apt   \n",
       "\n",
       "   price  minimum_nights  number_of_reviews  reviews_per_month  \\\n",
       "0    149               1                  9           0.210000   \n",
       "1    225               1                 45           0.380000   \n",
       "2    150               3                  0           1.373221   \n",
       "3     89               1                270           4.640000   \n",
       "4     80              10                  9           0.100000   \n",
       "\n",
       "   calculated_host_listings_count  availability_365  \n",
       "0                               6               365  \n",
       "1                               2               355  \n",
       "2                               1               365  \n",
       "3                               1               194  \n",
       "4                               1                 0  "
      ]
     },
     "execution_count": 69,
     "metadata": {},
     "output_type": "execute_result"
    }
   ],
   "source": [
    "df.head()"
   ]
  },
  {
   "cell_type": "code",
   "execution_count": 71,
   "id": "5027e03a-7699-4818-8d3e-7e3ddfcdfdfe",
   "metadata": {},
   "outputs": [
    {
     "data": {
      "text/plain": [
       "neighbourhood_group\n",
       "Manhattan        21661\n",
       "Brooklyn         20104\n",
       "Queens            5666\n",
       "Bronx             1091\n",
       "Staten Island      373\n",
       "Name: count, dtype: int64"
      ]
     },
     "execution_count": 71,
     "metadata": {},
     "output_type": "execute_result"
    }
   ],
   "source": [
    "# Getting the vlaue count\n",
    "\n",
    "df['neighbourhood_group'].value_counts()"
   ]
  },
  {
   "cell_type": "code",
   "execution_count": 72,
   "id": "c6a51d24-d644-4001-96a5-04e554e3433d",
   "metadata": {},
   "outputs": [],
   "source": [
    "slices=df['neighbourhood_group'].value_counts()\n",
    "names=['Manhattan','Brooklyn','Queens','Bronx','Staten Island']"
   ]
  },
  {
   "cell_type": "code",
   "execution_count": 73,
   "id": "ae5b8e97-1caf-44a2-9688-1cd3842d5dab",
   "metadata": {},
   "outputs": [
    {
     "data": {
      "text/plain": [
       "Text(0.5, 1.0, 'Neighbourhood group')"
      ]
     },
     "execution_count": 73,
     "metadata": {},
     "output_type": "execute_result"
    },
    {
     "data": {
      "image/png": "[encoded data removed]",
      "text/plain": [
       "<Figure size 640x480 with 1 Axes>"
      ]
     },
     "metadata": {},
     "output_type": "display_data"
    }
   ],
   "source": [
    "# Visualizing using pie chart\n",
    "\n",
    "plt.pie(slices,labels=names,autopct='%1.1f%%',explode=(0,0,0,0.2,0.2))\n",
    "plt.title('Neighbourhood group',size=20,color='g')"
   ]
  },
  {
   "cell_type": "markdown",
   "id": "e1261c18-f370-4e73-941d-5b9ce5a5453f",
   "metadata": {},
   "source": [
    "1. It looks like Manhattan group has the largest bookings with 44.3%"
   ]
  },
  {
   "cell_type": "markdown",
   "id": "1e035a69-2682-402a-b0c2-bc85a4476eeb",
   "metadata": {},
   "source": [
    "2. Followed by Brooklyn with 41.1% share"
   ]
  },
  {
   "cell_type": "markdown",
   "id": "5e8064aa-cad9-4798-a0a1-ed81c5950a9d",
   "metadata": {},
   "source": [
    "#### Finding the top 10 host_id"
   ]
  },
  {
   "cell_type": "code",
   "execution_count": 74,
   "id": "8f0c97a8-8583-4fd2-abb7-a56c4587aeac",
   "metadata": {},
   "outputs": [
    {
     "data": {
      "text/html": [
       "<div>\n",
       "<style scoped>\n",
       "    .dataframe tbody tr th:only-of-type {\n",
       "        vertical-align: middle;\n",
       "    }\n",
       "\n",
       "    .dataframe tbody tr th {\n",
       "        vertical-align: top;\n",
       "    }\n",
       "\n",
       "    .dataframe thead th {\n",
       "        text-align: right;\n",
       "    }\n",
       "</style>\n",
       "<table border=\"1\" class=\"dataframe\">\n",
       "  <thead>\n",
       "    <tr style=\"text-align: right;\">\n",
       "      <th></th>\n",
       "      <th>host_id</th>\n",
       "      <th>host_name</th>\n",
       "      <th>neighbourhood_group</th>\n",
       "      <th>neighbourhood</th>\n",
       "      <th>room_type</th>\n",
       "      <th>price</th>\n",
       "      <th>minimum_nights</th>\n",
       "      <th>number_of_reviews</th>\n",
       "      <th>reviews_per_month</th>\n",
       "      <th>calculated_host_listings_count</th>\n",
       "      <th>availability_365</th>\n",
       "    </tr>\n",
       "  </thead>\n",
       "  <tbody>\n",
       "    <tr>\n",
       "      <th>0</th>\n",
       "      <td>2787</td>\n",
       "      <td>John</td>\n",
       "      <td>Brooklyn</td>\n",
       "      <td>Kensington</td>\n",
       "      <td>Private room</td>\n",
       "      <td>149</td>\n",
       "      <td>1</td>\n",
       "      <td>9</td>\n",
       "      <td>0.210000</td>\n",
       "      <td>6</td>\n",
       "      <td>365</td>\n",
       "    </tr>\n",
       "    <tr>\n",
       "      <th>1</th>\n",
       "      <td>2845</td>\n",
       "      <td>Jennifer</td>\n",
       "      <td>Manhattan</td>\n",
       "      <td>Midtown</td>\n",
       "      <td>Entire home/apt</td>\n",
       "      <td>225</td>\n",
       "      <td>1</td>\n",
       "      <td>45</td>\n",
       "      <td>0.380000</td>\n",
       "      <td>2</td>\n",
       "      <td>355</td>\n",
       "    </tr>\n",
       "    <tr>\n",
       "      <th>2</th>\n",
       "      <td>4632</td>\n",
       "      <td>Elisabeth</td>\n",
       "      <td>Manhattan</td>\n",
       "      <td>Harlem</td>\n",
       "      <td>Private room</td>\n",
       "      <td>150</td>\n",
       "      <td>3</td>\n",
       "      <td>0</td>\n",
       "      <td>1.373221</td>\n",
       "      <td>1</td>\n",
       "      <td>365</td>\n",
       "    </tr>\n",
       "    <tr>\n",
       "      <th>3</th>\n",
       "      <td>4869</td>\n",
       "      <td>LisaRoxanne</td>\n",
       "      <td>Brooklyn</td>\n",
       "      <td>Clinton Hill</td>\n",
       "      <td>Entire home/apt</td>\n",
       "      <td>89</td>\n",
       "      <td>1</td>\n",
       "      <td>270</td>\n",
       "      <td>4.640000</td>\n",
       "      <td>1</td>\n",
       "      <td>194</td>\n",
       "    </tr>\n",
       "    <tr>\n",
       "      <th>4</th>\n",
       "      <td>7192</td>\n",
       "      <td>Laura</td>\n",
       "      <td>Manhattan</td>\n",
       "      <td>East Harlem</td>\n",
       "      <td>Entire home/apt</td>\n",
       "      <td>80</td>\n",
       "      <td>10</td>\n",
       "      <td>9</td>\n",
       "      <td>0.100000</td>\n",
       "      <td>1</td>\n",
       "      <td>0</td>\n",
       "    </tr>\n",
       "  </tbody>\n",
       "</table>\n",
       "</div>"
      ],
      "text/plain": [
       "   host_id    host_name neighbourhood_group neighbourhood        room_type  \\\n",
       "0     2787         John            Brooklyn    Kensington     Private room   \n",
       "1     2845     Jennifer           Manhattan       Midtown  Entire home/apt   \n",
       "2     4632    Elisabeth           Manhattan        Harlem     Private room   \n",
       "3     4869  LisaRoxanne            Brooklyn  Clinton Hill  Entire home/apt   \n",
       "4     7192        Laura           Manhattan   East Harlem  Entire home/apt   \n",
       "\n",
       "   price  minimum_nights  number_of_reviews  reviews_per_month  \\\n",
       "0    149               1                  9           0.210000   \n",
       "1    225               1                 45           0.380000   \n",
       "2    150               3                  0           1.373221   \n",
       "3     89               1                270           4.640000   \n",
       "4     80              10                  9           0.100000   \n",
       "\n",
       "   calculated_host_listings_count  availability_365  \n",
       "0                               6               365  \n",
       "1                               2               355  \n",
       "2                               1               365  \n",
       "3                               1               194  \n",
       "4                               1                 0  "
      ]
     },
     "execution_count": 74,
     "metadata": {},
     "output_type": "execute_result"
    }
   ],
   "source": [
    "df.head()"
   ]
  },
  {
   "cell_type": "code",
   "execution_count": 75,
   "id": "7a847526-6ecd-4bd7-9a70-1fce3fff2109",
   "metadata": {},
   "outputs": [
    {
     "data": {
      "text/plain": [
       "host_id\n",
       "219517861    327\n",
       "107434423    232\n",
       "30283594     121\n",
       "137358866    103\n",
       "16098958      96\n",
       "12243051      96\n",
       "61391963      91\n",
       "22541573      87\n",
       "200380610     65\n",
       "7503643       52\n",
       "Name: count, dtype: int64"
      ]
     },
     "execution_count": 75,
     "metadata": {},
     "output_type": "execute_result"
    }
   ],
   "source": [
    "h=df['host_id'].value_counts().iloc[:10]\n",
    "h"
   ]
  },
  {
   "cell_type": "code",
   "execution_count": 76,
   "id": "4d1d0bc4-ece7-4426-9968-90d95e5957bf",
   "metadata": {},
   "outputs": [
    {
     "data": {
      "text/plain": [
       "(array([0, 1, 2, 3, 4, 5, 6, 7, 8, 9]),\n",
       " [Text(0, 0, '219517861'),\n",
       "  Text(1, 0, '107434423'),\n",
       "  Text(2, 0, '30283594'),\n",
       "  Text(3, 0, '137358866'),\n",
       "  Text(4, 0, '16098958'),\n",
       "  Text(5, 0, '12243051'),\n",
       "  Text(6, 0, '61391963'),\n",
       "  Text(7, 0, '22541573'),\n",
       "  Text(8, 0, '200380610'),\n",
       "  Text(9, 0, '7503643')])"
      ]
     },
     "execution_count": 76,
     "metadata": {},
     "output_type": "execute_result"
    },
    {
     "data": {
      "image/png": "[encoded data removed]",
      "text/plain": [
       "<Figure size 1200x500 with 1 Axes>"
      ]
     },
     "metadata": {},
     "output_type": "display_data"
    }
   ],
   "source": [
    "h.plot(kind='bar',figsize=(12,5),color='g')\n",
    "plt.title('Hosts with the most listings in NYC',size=15)\n",
    "plt.xlabel('Host IDs',size=13)\n",
    "plt.xticks(rotation =0)"
   ]
  },
  {
   "cell_type": "markdown",
   "id": "60efc50b-5f1f-4baf-8b40-c818d3f371e3",
   "metadata": {},
   "source": [
    "1. First host has more than 300+ listings"
   ]
  },
  {
   "cell_type": "markdown",
   "id": "c37daf9d-939a-4003-984b-faeded61e7ce",
   "metadata": {},
   "source": [
    "#### Analysis of \"Neighbourhood_group\" column with respect to \"price\" column"
   ]
  },
  {
   "cell_type": "code",
   "execution_count": 77,
   "id": "a9979ddb-c501-4f98-9602-571fb1758581",
   "metadata": {},
   "outputs": [
    {
     "data": {
      "text/html": [
       "<div>\n",
       "<style scoped>\n",
       "    .dataframe tbody tr th:only-of-type {\n",
       "        vertical-align: middle;\n",
       "    }\n",
       "\n",
       "    .dataframe tbody tr th {\n",
       "        vertical-align: top;\n",
       "    }\n",
       "\n",
       "    .dataframe thead th {\n",
       "        text-align: right;\n",
       "    }\n",
       "</style>\n",
       "<table border=\"1\" class=\"dataframe\">\n",
       "  <thead>\n",
       "    <tr style=\"text-align: right;\">\n",
       "      <th></th>\n",
       "      <th>host_id</th>\n",
       "      <th>host_name</th>\n",
       "      <th>neighbourhood_group</th>\n",
       "      <th>neighbourhood</th>\n",
       "      <th>room_type</th>\n",
       "      <th>price</th>\n",
       "      <th>minimum_nights</th>\n",
       "      <th>number_of_reviews</th>\n",
       "      <th>reviews_per_month</th>\n",
       "      <th>calculated_host_listings_count</th>\n",
       "      <th>availability_365</th>\n",
       "    </tr>\n",
       "  </thead>\n",
       "  <tbody>\n",
       "    <tr>\n",
       "      <th>0</th>\n",
       "      <td>2787</td>\n",
       "      <td>John</td>\n",
       "      <td>Brooklyn</td>\n",
       "      <td>Kensington</td>\n",
       "      <td>Private room</td>\n",
       "      <td>149</td>\n",
       "      <td>1</td>\n",
       "      <td>9</td>\n",
       "      <td>0.210000</td>\n",
       "      <td>6</td>\n",
       "      <td>365</td>\n",
       "    </tr>\n",
       "    <tr>\n",
       "      <th>1</th>\n",
       "      <td>2845</td>\n",
       "      <td>Jennifer</td>\n",
       "      <td>Manhattan</td>\n",
       "      <td>Midtown</td>\n",
       "      <td>Entire home/apt</td>\n",
       "      <td>225</td>\n",
       "      <td>1</td>\n",
       "      <td>45</td>\n",
       "      <td>0.380000</td>\n",
       "      <td>2</td>\n",
       "      <td>355</td>\n",
       "    </tr>\n",
       "    <tr>\n",
       "      <th>2</th>\n",
       "      <td>4632</td>\n",
       "      <td>Elisabeth</td>\n",
       "      <td>Manhattan</td>\n",
       "      <td>Harlem</td>\n",
       "      <td>Private room</td>\n",
       "      <td>150</td>\n",
       "      <td>3</td>\n",
       "      <td>0</td>\n",
       "      <td>1.373221</td>\n",
       "      <td>1</td>\n",
       "      <td>365</td>\n",
       "    </tr>\n",
       "    <tr>\n",
       "      <th>3</th>\n",
       "      <td>4869</td>\n",
       "      <td>LisaRoxanne</td>\n",
       "      <td>Brooklyn</td>\n",
       "      <td>Clinton Hill</td>\n",
       "      <td>Entire home/apt</td>\n",
       "      <td>89</td>\n",
       "      <td>1</td>\n",
       "      <td>270</td>\n",
       "      <td>4.640000</td>\n",
       "      <td>1</td>\n",
       "      <td>194</td>\n",
       "    </tr>\n",
       "    <tr>\n",
       "      <th>4</th>\n",
       "      <td>7192</td>\n",
       "      <td>Laura</td>\n",
       "      <td>Manhattan</td>\n",
       "      <td>East Harlem</td>\n",
       "      <td>Entire home/apt</td>\n",
       "      <td>80</td>\n",
       "      <td>10</td>\n",
       "      <td>9</td>\n",
       "      <td>0.100000</td>\n",
       "      <td>1</td>\n",
       "      <td>0</td>\n",
       "    </tr>\n",
       "  </tbody>\n",
       "</table>\n",
       "</div>"
      ],
      "text/plain": [
       "   host_id    host_name neighbourhood_group neighbourhood        room_type  \\\n",
       "0     2787         John            Brooklyn    Kensington     Private room   \n",
       "1     2845     Jennifer           Manhattan       Midtown  Entire home/apt   \n",
       "2     4632    Elisabeth           Manhattan        Harlem     Private room   \n",
       "3     4869  LisaRoxanne            Brooklyn  Clinton Hill  Entire home/apt   \n",
       "4     7192        Laura           Manhattan   East Harlem  Entire home/apt   \n",
       "\n",
       "   price  minimum_nights  number_of_reviews  reviews_per_month  \\\n",
       "0    149               1                  9           0.210000   \n",
       "1    225               1                 45           0.380000   \n",
       "2    150               3                  0           1.373221   \n",
       "3     89               1                270           4.640000   \n",
       "4     80              10                  9           0.100000   \n",
       "\n",
       "   calculated_host_listings_count  availability_365  \n",
       "0                               6               365  \n",
       "1                               2               355  \n",
       "2                               1               365  \n",
       "3                               1               194  \n",
       "4                               1                 0  "
      ]
     },
     "execution_count": 77,
     "metadata": {},
     "output_type": "execute_result"
    }
   ],
   "source": [
    "df.head()"
   ]
  },
  {
   "cell_type": "code",
   "execution_count": 78,
   "id": "0ce416cf-5112-41e9-ad7d-f1055fa53792",
   "metadata": {},
   "outputs": [
    {
     "data": {
      "text/plain": [
       "(48895, 11)"
      ]
     },
     "execution_count": 78,
     "metadata": {},
     "output_type": "execute_result"
    }
   ],
   "source": [
    "df.shape"
   ]
  },
  {
   "cell_type": "markdown",
   "id": "4ee2645b-3cdf-4dd6-98e8-2641d3818d6f",
   "metadata": {},
   "source": [
    "#### Checking for outliers in the \"price\" column"
   ]
  },
  {
   "cell_type": "code",
   "execution_count": 79,
   "id": "15ee4c7b-a9ef-4a48-8215-059ffe8e9207",
   "metadata": {},
   "outputs": [
    {
     "data": {
      "text/plain": [
       "count    48895.000000\n",
       "mean       152.720687\n",
       "std        240.154170\n",
       "min          0.000000\n",
       "25%         69.000000\n",
       "50%        106.000000\n",
       "75%        175.000000\n",
       "max      10000.000000\n",
       "Name: price, dtype: float64"
      ]
     },
     "execution_count": 79,
     "metadata": {},
     "output_type": "execute_result"
    }
   ],
   "source": [
    "df['price'].describe()"
   ]
  },
  {
   "cell_type": "code",
   "execution_count": 80,
   "id": "85e8afa7-f6bf-4b5e-a197-70beaef6058e",
   "metadata": {},
   "outputs": [
    {
     "data": {
      "text/plain": [
       "Text(0.5, 1.0, 'Histogram')"
      ]
     },
     "execution_count": 80,
     "metadata": {},
     "output_type": "execute_result"
    },
    {
     "data": {
      "image/png": "[encoded data removed]",
      "text/plain": [
       "<Figure size 1500x600 with 1 Axes>"
      ]
     },
     "metadata": {},
     "output_type": "display_data"
    }
   ],
   "source": [
    "plt.figure(figsize=(15,6))\n",
    "sns.histplot(x='price',data=df,color='r',kde=True)\n",
    "plt.xlabel('Price',size=20,color='r')\n",
    "plt.ylabel('Density or count', fontsize = 15,color='r')\n",
    "plt.title('Histogram',size=30,color='g')"
   ]
  },
  {
   "cell_type": "markdown",
   "id": "de6da4af-83b6-4bdf-8c43-569de5aa84cd",
   "metadata": {},
   "source": [
    "#### Box Plot"
   ]
  },
  {
   "cell_type": "code",
   "execution_count": 81,
   "id": "ec23bcd9-c20d-4f30-a017-491d4a80cbc9",
   "metadata": {},
   "outputs": [
    {
     "data": {
      "text/plain": [
       "Text(0.5, 1.0, 'Box Plot')"
      ]
     },
     "execution_count": 81,
     "metadata": {},
     "output_type": "execute_result"
    },
    {
     "data": {
      "image/png": "[encoded data removed]",
      "text/plain": [
       "<Figure size 1500x600 with 1 Axes>"
      ]
     },
     "metadata": {},
     "output_type": "display_data"
    }
   ],
   "source": [
    "plt.figure(figsize = (15,6))\n",
    "sns.boxplot(x ='price',data=df)\n",
    "plt.xlabel('Price',size=20,color='r')\n",
    "plt.title('Box Plot',size=20,color='g')"
   ]
  },
  {
   "cell_type": "markdown",
   "id": "cbbbc5fc-0eaa-4251-b077-8aa905da5196",
   "metadata": {},
   "source": [
    "From the above Histogram and Box Plot we conclude that Price column contains Outlier data"
   ]
  },
  {
   "cell_type": "markdown",
   "id": "8dc5e1a5-5922-4566-bd2b-059dcc3374c0",
   "metadata": {},
   "source": [
    "#### Outlier removal Using IQR"
   ]
  },
  {
   "cell_type": "code",
   "execution_count": 82,
   "id": "9770ef75-0c61-4662-a137-af6a63f155d5",
   "metadata": {},
   "outputs": [],
   "source": [
    "Q1=df['price'].quantile(0.25)\n",
    "Q3=df['price'].quantile(0.75)"
   ]
  },
  {
   "cell_type": "code",
   "execution_count": 83,
   "id": "cb0ad085-7d06-41b8-8c98-17545616882e",
   "metadata": {},
   "outputs": [],
   "source": [
    "# Finding the Inter Quartile range\n",
    "\n",
    "IQR=Q3-Q1"
   ]
  },
  {
   "cell_type": "code",
   "execution_count": 84,
   "id": "892ab29f-7268-49b2-8273-b6b9fc6a8e72",
   "metadata": {},
   "outputs": [
    {
     "name": "stdout",
     "output_type": "stream",
     "text": [
      "The lower limit is: -90.0\n",
      "The upper limit is: 334.0\n"
     ]
    }
   ],
   "source": [
    "lower_limit=Q1-1.5*IQR\n",
    "upper_limit=Q3+1.5*IQR\n",
    "print('The lower limit is:',lower_limit)\n",
    "print('The upper limit is:',upper_limit)"
   ]
  },
  {
   "cell_type": "markdown",
   "id": "4b001a19-e392-4b36-8a54-5030a0550981",
   "metadata": {},
   "source": [
    "Any value beyond the range of Lower limit and upper limit will be the outliers"
   ]
  },
  {
   "cell_type": "markdown",
   "id": "60f1b1ec-309b-4da6-bcea-f09b5cd38172",
   "metadata": {},
   "source": [
    "#### Printing the outliers"
   ]
  },
  {
   "cell_type": "code",
   "execution_count": 85,
   "id": "733d8161-0d37-49d0-b956-e71528c35325",
   "metadata": {},
   "outputs": [
    {
     "data": {
      "text/html": [
       "<div>\n",
       "<style scoped>\n",
       "    .dataframe tbody tr th:only-of-type {\n",
       "        vertical-align: middle;\n",
       "    }\n",
       "\n",
       "    .dataframe tbody tr th {\n",
       "        vertical-align: top;\n",
       "    }\n",
       "\n",
       "    .dataframe thead th {\n",
       "        text-align: right;\n",
       "    }\n",
       "</style>\n",
       "<table border=\"1\" class=\"dataframe\">\n",
       "  <thead>\n",
       "    <tr style=\"text-align: right;\">\n",
       "      <th></th>\n",
       "      <th>host_id</th>\n",
       "      <th>host_name</th>\n",
       "      <th>neighbourhood_group</th>\n",
       "      <th>neighbourhood</th>\n",
       "      <th>room_type</th>\n",
       "      <th>price</th>\n",
       "      <th>minimum_nights</th>\n",
       "      <th>number_of_reviews</th>\n",
       "      <th>reviews_per_month</th>\n",
       "      <th>calculated_host_listings_count</th>\n",
       "      <th>availability_365</th>\n",
       "    </tr>\n",
       "  </thead>\n",
       "  <tbody>\n",
       "    <tr>\n",
       "      <th>61</th>\n",
       "      <td>60278</td>\n",
       "      <td>Petra</td>\n",
       "      <td>Manhattan</td>\n",
       "      <td>Chelsea</td>\n",
       "      <td>Entire home/apt</td>\n",
       "      <td>375</td>\n",
       "      <td>180</td>\n",
       "      <td>5</td>\n",
       "      <td>0.120000</td>\n",
       "      <td>1</td>\n",
       "      <td>180</td>\n",
       "    </tr>\n",
       "    <tr>\n",
       "      <th>85</th>\n",
       "      <td>74303</td>\n",
       "      <td>Maggie</td>\n",
       "      <td>Brooklyn</td>\n",
       "      <td>Brooklyn Heights</td>\n",
       "      <td>Entire home/apt</td>\n",
       "      <td>800</td>\n",
       "      <td>1</td>\n",
       "      <td>25</td>\n",
       "      <td>0.240000</td>\n",
       "      <td>1</td>\n",
       "      <td>7</td>\n",
       "    </tr>\n",
       "    <tr>\n",
       "      <th>103</th>\n",
       "      <td>93790</td>\n",
       "      <td>Ann</td>\n",
       "      <td>Manhattan</td>\n",
       "      <td>West Village</td>\n",
       "      <td>Entire home/apt</td>\n",
       "      <td>500</td>\n",
       "      <td>4</td>\n",
       "      <td>46</td>\n",
       "      <td>0.550000</td>\n",
       "      <td>2</td>\n",
       "      <td>243</td>\n",
       "    </tr>\n",
       "    <tr>\n",
       "      <th>114</th>\n",
       "      <td>72062</td>\n",
       "      <td>Bruce</td>\n",
       "      <td>Manhattan</td>\n",
       "      <td>East Village</td>\n",
       "      <td>Entire home/apt</td>\n",
       "      <td>350</td>\n",
       "      <td>2</td>\n",
       "      <td>7</td>\n",
       "      <td>0.060000</td>\n",
       "      <td>4</td>\n",
       "      <td>298</td>\n",
       "    </tr>\n",
       "    <tr>\n",
       "      <th>121</th>\n",
       "      <td>119588</td>\n",
       "      <td>Vero</td>\n",
       "      <td>Brooklyn</td>\n",
       "      <td>South Slope</td>\n",
       "      <td>Entire home/apt</td>\n",
       "      <td>400</td>\n",
       "      <td>2</td>\n",
       "      <td>16</td>\n",
       "      <td>0.240000</td>\n",
       "      <td>2</td>\n",
       "      <td>216</td>\n",
       "    </tr>\n",
       "    <tr>\n",
       "      <th>...</th>\n",
       "      <td>...</td>\n",
       "      <td>...</td>\n",
       "      <td>...</td>\n",
       "      <td>...</td>\n",
       "      <td>...</td>\n",
       "      <td>...</td>\n",
       "      <td>...</td>\n",
       "      <td>...</td>\n",
       "      <td>...</td>\n",
       "      <td>...</td>\n",
       "      <td>...</td>\n",
       "    </tr>\n",
       "    <tr>\n",
       "      <th>48758</th>\n",
       "      <td>73211393</td>\n",
       "      <td>LaGabrell</td>\n",
       "      <td>Queens</td>\n",
       "      <td>Long Island City</td>\n",
       "      <td>Entire home/apt</td>\n",
       "      <td>350</td>\n",
       "      <td>2</td>\n",
       "      <td>0</td>\n",
       "      <td>1.373221</td>\n",
       "      <td>1</td>\n",
       "      <td>364</td>\n",
       "    </tr>\n",
       "    <tr>\n",
       "      <th>48833</th>\n",
       "      <td>29741813</td>\n",
       "      <td>Yue</td>\n",
       "      <td>Manhattan</td>\n",
       "      <td>Financial District</td>\n",
       "      <td>Entire home/apt</td>\n",
       "      <td>475</td>\n",
       "      <td>2</td>\n",
       "      <td>0</td>\n",
       "      <td>1.373221</td>\n",
       "      <td>1</td>\n",
       "      <td>64</td>\n",
       "    </tr>\n",
       "    <tr>\n",
       "      <th>48839</th>\n",
       "      <td>274079964</td>\n",
       "      <td>Richard</td>\n",
       "      <td>Brooklyn</td>\n",
       "      <td>Sheepshead Bay</td>\n",
       "      <td>Private room</td>\n",
       "      <td>800</td>\n",
       "      <td>1</td>\n",
       "      <td>0</td>\n",
       "      <td>1.373221</td>\n",
       "      <td>1</td>\n",
       "      <td>23</td>\n",
       "    </tr>\n",
       "    <tr>\n",
       "      <th>48842</th>\n",
       "      <td>224171371</td>\n",
       "      <td>LuxuryApartmentsByAmber</td>\n",
       "      <td>Manhattan</td>\n",
       "      <td>Chelsea</td>\n",
       "      <td>Entire home/apt</td>\n",
       "      <td>350</td>\n",
       "      <td>1</td>\n",
       "      <td>0</td>\n",
       "      <td>1.373221</td>\n",
       "      <td>1</td>\n",
       "      <td>9</td>\n",
       "    </tr>\n",
       "    <tr>\n",
       "      <th>48856</th>\n",
       "      <td>66993395</td>\n",
       "      <td>Thomas</td>\n",
       "      <td>Brooklyn</td>\n",
       "      <td>Bedford-Stuyvesant</td>\n",
       "      <td>Entire home/apt</td>\n",
       "      <td>345</td>\n",
       "      <td>4</td>\n",
       "      <td>0</td>\n",
       "      <td>1.373221</td>\n",
       "      <td>3</td>\n",
       "      <td>354</td>\n",
       "    </tr>\n",
       "  </tbody>\n",
       "</table>\n",
       "<p>2972 rows × 11 columns</p>\n",
       "</div>"
      ],
      "text/plain": [
       "         host_id                host_name neighbourhood_group  \\\n",
       "61         60278                    Petra           Manhattan   \n",
       "85         74303                   Maggie            Brooklyn   \n",
       "103        93790                      Ann           Manhattan   \n",
       "114        72062                    Bruce           Manhattan   \n",
       "121       119588                     Vero            Brooklyn   \n",
       "...          ...                      ...                 ...   \n",
       "48758   73211393                LaGabrell              Queens   \n",
       "48833   29741813                      Yue           Manhattan   \n",
       "48839  274079964                  Richard            Brooklyn   \n",
       "48842  224171371  LuxuryApartmentsByAmber           Manhattan   \n",
       "48856   66993395                   Thomas            Brooklyn   \n",
       "\n",
       "            neighbourhood        room_type  price  minimum_nights  \\\n",
       "61                Chelsea  Entire home/apt    375             180   \n",
       "85       Brooklyn Heights  Entire home/apt    800               1   \n",
       "103          West Village  Entire home/apt    500               4   \n",
       "114          East Village  Entire home/apt    350               2   \n",
       "121           South Slope  Entire home/apt    400               2   \n",
       "...                   ...              ...    ...             ...   \n",
       "48758    Long Island City  Entire home/apt    350               2   \n",
       "48833  Financial District  Entire home/apt    475               2   \n",
       "48839      Sheepshead Bay     Private room    800               1   \n",
       "48842             Chelsea  Entire home/apt    350               1   \n",
       "48856  Bedford-Stuyvesant  Entire home/apt    345               4   \n",
       "\n",
       "       number_of_reviews  reviews_per_month  calculated_host_listings_count  \\\n",
       "61                     5           0.120000                               1   \n",
       "85                    25           0.240000                               1   \n",
       "103                   46           0.550000                               2   \n",
       "114                    7           0.060000                               4   \n",
       "121                   16           0.240000                               2   \n",
       "...                  ...                ...                             ...   \n",
       "48758                  0           1.373221                               1   \n",
       "48833                  0           1.373221                               1   \n",
       "48839                  0           1.373221                               1   \n",
       "48842                  0           1.373221                               1   \n",
       "48856                  0           1.373221                               3   \n",
       "\n",
       "       availability_365  \n",
       "61                  180  \n",
       "85                    7  \n",
       "103                 243  \n",
       "114                 298  \n",
       "121                 216  \n",
       "...                 ...  \n",
       "48758               364  \n",
       "48833                64  \n",
       "48839                23  \n",
       "48842                 9  \n",
       "48856               354  \n",
       "\n",
       "[2972 rows x 11 columns]"
      ]
     },
     "execution_count": 85,
     "metadata": {},
     "output_type": "execute_result"
    }
   ],
   "source": [
    "df[(df['price']<lower_limit) | (df['price']>upper_limit)]"
   ]
  },
  {
   "cell_type": "markdown",
   "id": "0947197b-56b2-4cfb-9046-2ea503d355da",
   "metadata": {},
   "source": [
    "#### Removing the outliers"
   ]
  },
  {
   "cell_type": "code",
   "execution_count": 86,
   "id": "11d0ded3-04f7-461d-af4f-65f83c276d91",
   "metadata": {},
   "outputs": [
    {
     "data": {
      "text/html": [
       "<div>\n",
       "<style scoped>\n",
       "    .dataframe tbody tr th:only-of-type {\n",
       "        vertical-align: middle;\n",
       "    }\n",
       "\n",
       "    .dataframe tbody tr th {\n",
       "        vertical-align: top;\n",
       "    }\n",
       "\n",
       "    .dataframe thead th {\n",
       "        text-align: right;\n",
       "    }\n",
       "</style>\n",
       "<table border=\"1\" class=\"dataframe\">\n",
       "  <thead>\n",
       "    <tr style=\"text-align: right;\">\n",
       "      <th></th>\n",
       "      <th>host_id</th>\n",
       "      <th>host_name</th>\n",
       "      <th>neighbourhood_group</th>\n",
       "      <th>neighbourhood</th>\n",
       "      <th>room_type</th>\n",
       "      <th>price</th>\n",
       "      <th>minimum_nights</th>\n",
       "      <th>number_of_reviews</th>\n",
       "      <th>reviews_per_month</th>\n",
       "      <th>calculated_host_listings_count</th>\n",
       "      <th>availability_365</th>\n",
       "    </tr>\n",
       "  </thead>\n",
       "  <tbody>\n",
       "    <tr>\n",
       "      <th>0</th>\n",
       "      <td>2787</td>\n",
       "      <td>John</td>\n",
       "      <td>Brooklyn</td>\n",
       "      <td>Kensington</td>\n",
       "      <td>Private room</td>\n",
       "      <td>149</td>\n",
       "      <td>1</td>\n",
       "      <td>9</td>\n",
       "      <td>0.210000</td>\n",
       "      <td>6</td>\n",
       "      <td>365</td>\n",
       "    </tr>\n",
       "    <tr>\n",
       "      <th>1</th>\n",
       "      <td>2845</td>\n",
       "      <td>Jennifer</td>\n",
       "      <td>Manhattan</td>\n",
       "      <td>Midtown</td>\n",
       "      <td>Entire home/apt</td>\n",
       "      <td>225</td>\n",
       "      <td>1</td>\n",
       "      <td>45</td>\n",
       "      <td>0.380000</td>\n",
       "      <td>2</td>\n",
       "      <td>355</td>\n",
       "    </tr>\n",
       "    <tr>\n",
       "      <th>2</th>\n",
       "      <td>4632</td>\n",
       "      <td>Elisabeth</td>\n",
       "      <td>Manhattan</td>\n",
       "      <td>Harlem</td>\n",
       "      <td>Private room</td>\n",
       "      <td>150</td>\n",
       "      <td>3</td>\n",
       "      <td>0</td>\n",
       "      <td>1.373221</td>\n",
       "      <td>1</td>\n",
       "      <td>365</td>\n",
       "    </tr>\n",
       "    <tr>\n",
       "      <th>3</th>\n",
       "      <td>4869</td>\n",
       "      <td>LisaRoxanne</td>\n",
       "      <td>Brooklyn</td>\n",
       "      <td>Clinton Hill</td>\n",
       "      <td>Entire home/apt</td>\n",
       "      <td>89</td>\n",
       "      <td>1</td>\n",
       "      <td>270</td>\n",
       "      <td>4.640000</td>\n",
       "      <td>1</td>\n",
       "      <td>194</td>\n",
       "    </tr>\n",
       "    <tr>\n",
       "      <th>4</th>\n",
       "      <td>7192</td>\n",
       "      <td>Laura</td>\n",
       "      <td>Manhattan</td>\n",
       "      <td>East Harlem</td>\n",
       "      <td>Entire home/apt</td>\n",
       "      <td>80</td>\n",
       "      <td>10</td>\n",
       "      <td>9</td>\n",
       "      <td>0.100000</td>\n",
       "      <td>1</td>\n",
       "      <td>0</td>\n",
       "    </tr>\n",
       "  </tbody>\n",
       "</table>\n",
       "</div>"
      ],
      "text/plain": [
       "   host_id    host_name neighbourhood_group neighbourhood        room_type  \\\n",
       "0     2787         John            Brooklyn    Kensington     Private room   \n",
       "1     2845     Jennifer           Manhattan       Midtown  Entire home/apt   \n",
       "2     4632    Elisabeth           Manhattan        Harlem     Private room   \n",
       "3     4869  LisaRoxanne            Brooklyn  Clinton Hill  Entire home/apt   \n",
       "4     7192        Laura           Manhattan   East Harlem  Entire home/apt   \n",
       "\n",
       "   price  minimum_nights  number_of_reviews  reviews_per_month  \\\n",
       "0    149               1                  9           0.210000   \n",
       "1    225               1                 45           0.380000   \n",
       "2    150               3                  0           1.373221   \n",
       "3     89               1                270           4.640000   \n",
       "4     80              10                  9           0.100000   \n",
       "\n",
       "   calculated_host_listings_count  availability_365  \n",
       "0                               6               365  \n",
       "1                               2               355  \n",
       "2                               1               365  \n",
       "3                               1               194  \n",
       "4                               1                 0  "
      ]
     },
     "execution_count": 86,
     "metadata": {},
     "output_type": "execute_result"
    }
   ],
   "source": [
    "df_new=df[(df['price']>lower_limit) & (df['price']<upper_limit)]\n",
    "df_new.head()"
   ]
  },
  {
   "cell_type": "markdown",
   "id": "6043555b-11d5-4ffd-b433-f9cf64bc28ce",
   "metadata": {},
   "source": [
    "Hence there is no outliers in the price column"
   ]
  },
  {
   "cell_type": "code",
   "execution_count": 87,
   "id": "35d8359b-a477-40cf-afea-ef09a7fd4447",
   "metadata": {},
   "outputs": [
    {
     "data": {
      "text/html": [
       "<div>\n",
       "<style scoped>\n",
       "    .dataframe tbody tr th:only-of-type {\n",
       "        vertical-align: middle;\n",
       "    }\n",
       "\n",
       "    .dataframe tbody tr th {\n",
       "        vertical-align: top;\n",
       "    }\n",
       "\n",
       "    .dataframe thead th {\n",
       "        text-align: right;\n",
       "    }\n",
       "</style>\n",
       "<table border=\"1\" class=\"dataframe\">\n",
       "  <thead>\n",
       "    <tr style=\"text-align: right;\">\n",
       "      <th></th>\n",
       "      <th>count</th>\n",
       "      <th>mean</th>\n",
       "      <th>std</th>\n",
       "      <th>min</th>\n",
       "      <th>25%</th>\n",
       "      <th>50%</th>\n",
       "      <th>75%</th>\n",
       "      <th>max</th>\n",
       "    </tr>\n",
       "    <tr>\n",
       "      <th>neighbourhood_group</th>\n",
       "      <th></th>\n",
       "      <th></th>\n",
       "      <th></th>\n",
       "      <th></th>\n",
       "      <th></th>\n",
       "      <th></th>\n",
       "      <th></th>\n",
       "      <th></th>\n",
       "    </tr>\n",
       "  </thead>\n",
       "  <tbody>\n",
       "    <tr>\n",
       "      <th>Bronx</th>\n",
       "      <td>1091.0</td>\n",
       "      <td>87.496792</td>\n",
       "      <td>106.709349</td>\n",
       "      <td>0.0</td>\n",
       "      <td>45.0</td>\n",
       "      <td>65.0</td>\n",
       "      <td>99.0</td>\n",
       "      <td>2500.0</td>\n",
       "    </tr>\n",
       "    <tr>\n",
       "      <th>Brooklyn</th>\n",
       "      <td>20104.0</td>\n",
       "      <td>124.383207</td>\n",
       "      <td>186.873538</td>\n",
       "      <td>0.0</td>\n",
       "      <td>60.0</td>\n",
       "      <td>90.0</td>\n",
       "      <td>150.0</td>\n",
       "      <td>10000.0</td>\n",
       "    </tr>\n",
       "    <tr>\n",
       "      <th>Manhattan</th>\n",
       "      <td>21661.0</td>\n",
       "      <td>196.875814</td>\n",
       "      <td>291.383183</td>\n",
       "      <td>0.0</td>\n",
       "      <td>95.0</td>\n",
       "      <td>150.0</td>\n",
       "      <td>220.0</td>\n",
       "      <td>10000.0</td>\n",
       "    </tr>\n",
       "    <tr>\n",
       "      <th>Queens</th>\n",
       "      <td>5666.0</td>\n",
       "      <td>99.517649</td>\n",
       "      <td>167.102155</td>\n",
       "      <td>10.0</td>\n",
       "      <td>50.0</td>\n",
       "      <td>75.0</td>\n",
       "      <td>110.0</td>\n",
       "      <td>10000.0</td>\n",
       "    </tr>\n",
       "    <tr>\n",
       "      <th>Staten Island</th>\n",
       "      <td>373.0</td>\n",
       "      <td>114.812332</td>\n",
       "      <td>277.620403</td>\n",
       "      <td>13.0</td>\n",
       "      <td>50.0</td>\n",
       "      <td>75.0</td>\n",
       "      <td>110.0</td>\n",
       "      <td>5000.0</td>\n",
       "    </tr>\n",
       "  </tbody>\n",
       "</table>\n",
       "</div>"
      ],
      "text/plain": [
       "                       count        mean         std   min   25%    50%  \\\n",
       "neighbourhood_group                                                       \n",
       "Bronx                 1091.0   87.496792  106.709349   0.0  45.0   65.0   \n",
       "Brooklyn             20104.0  124.383207  186.873538   0.0  60.0   90.0   \n",
       "Manhattan            21661.0  196.875814  291.383183   0.0  95.0  150.0   \n",
       "Queens                5666.0   99.517649  167.102155  10.0  50.0   75.0   \n",
       "Staten Island          373.0  114.812332  277.620403  13.0  50.0   75.0   \n",
       "\n",
       "                       75%      max  \n",
       "neighbourhood_group                  \n",
       "Bronx                 99.0   2500.0  \n",
       "Brooklyn             150.0  10000.0  \n",
       "Manhattan            220.0  10000.0  \n",
       "Queens               110.0  10000.0  \n",
       "Staten Island        110.0   5000.0  "
      ]
     },
     "execution_count": 87,
     "metadata": {},
     "output_type": "execute_result"
    }
   ],
   "source": [
    "df.groupby(['neighbourhood_group'])['price'].describe()"
   ]
  },
  {
   "cell_type": "code",
   "execution_count": 88,
   "id": "444fac01-6b93-46aa-be69-0207e984c554",
   "metadata": {},
   "outputs": [
    {
     "data": {
      "text/html": [
       "<div>\n",
       "<style scoped>\n",
       "    .dataframe tbody tr th:only-of-type {\n",
       "        vertical-align: middle;\n",
       "    }\n",
       "\n",
       "    .dataframe tbody tr th {\n",
       "        vertical-align: top;\n",
       "    }\n",
       "\n",
       "    .dataframe thead th {\n",
       "        text-align: right;\n",
       "    }\n",
       "</style>\n",
       "<table border=\"1\" class=\"dataframe\">\n",
       "  <thead>\n",
       "    <tr style=\"text-align: right;\">\n",
       "      <th></th>\n",
       "      <th>count</th>\n",
       "      <th>mean</th>\n",
       "      <th>std</th>\n",
       "      <th>min</th>\n",
       "      <th>25%</th>\n",
       "      <th>50%</th>\n",
       "      <th>75%</th>\n",
       "      <th>max</th>\n",
       "    </tr>\n",
       "    <tr>\n",
       "      <th>neighbourhood_group</th>\n",
       "      <th></th>\n",
       "      <th></th>\n",
       "      <th></th>\n",
       "      <th></th>\n",
       "      <th></th>\n",
       "      <th></th>\n",
       "      <th></th>\n",
       "      <th></th>\n",
       "    </tr>\n",
       "  </thead>\n",
       "  <tbody>\n",
       "    <tr>\n",
       "      <th>Bronx</th>\n",
       "      <td>1070.0</td>\n",
       "      <td>77.365421</td>\n",
       "      <td>47.110940</td>\n",
       "      <td>0.0</td>\n",
       "      <td>45.0</td>\n",
       "      <td>65.0</td>\n",
       "      <td>95.0</td>\n",
       "      <td>325.0</td>\n",
       "    </tr>\n",
       "    <tr>\n",
       "      <th>Brooklyn</th>\n",
       "      <td>19415.0</td>\n",
       "      <td>105.699614</td>\n",
       "      <td>60.937808</td>\n",
       "      <td>0.0</td>\n",
       "      <td>60.0</td>\n",
       "      <td>90.0</td>\n",
       "      <td>140.0</td>\n",
       "      <td>333.0</td>\n",
       "    </tr>\n",
       "    <tr>\n",
       "      <th>Manhattan</th>\n",
       "      <td>19501.0</td>\n",
       "      <td>145.904620</td>\n",
       "      <td>70.417743</td>\n",
       "      <td>0.0</td>\n",
       "      <td>90.0</td>\n",
       "      <td>135.0</td>\n",
       "      <td>199.0</td>\n",
       "      <td>333.0</td>\n",
       "    </tr>\n",
       "    <tr>\n",
       "      <th>Queens</th>\n",
       "      <td>5567.0</td>\n",
       "      <td>88.904437</td>\n",
       "      <td>53.536041</td>\n",
       "      <td>10.0</td>\n",
       "      <td>50.0</td>\n",
       "      <td>74.0</td>\n",
       "      <td>108.0</td>\n",
       "      <td>325.0</td>\n",
       "    </tr>\n",
       "    <tr>\n",
       "      <th>Staten Island</th>\n",
       "      <td>365.0</td>\n",
       "      <td>89.235616</td>\n",
       "      <td>57.700147</td>\n",
       "      <td>13.0</td>\n",
       "      <td>50.0</td>\n",
       "      <td>75.0</td>\n",
       "      <td>105.0</td>\n",
       "      <td>300.0</td>\n",
       "    </tr>\n",
       "  </tbody>\n",
       "</table>\n",
       "</div>"
      ],
      "text/plain": [
       "                       count        mean        std   min   25%    50%    75%  \\\n",
       "neighbourhood_group                                                             \n",
       "Bronx                 1070.0   77.365421  47.110940   0.0  45.0   65.0   95.0   \n",
       "Brooklyn             19415.0  105.699614  60.937808   0.0  60.0   90.0  140.0   \n",
       "Manhattan            19501.0  145.904620  70.417743   0.0  90.0  135.0  199.0   \n",
       "Queens                5567.0   88.904437  53.536041  10.0  50.0   74.0  108.0   \n",
       "Staten Island          365.0   89.235616  57.700147  13.0  50.0   75.0  105.0   \n",
       "\n",
       "                       max  \n",
       "neighbourhood_group         \n",
       "Bronx                325.0  \n",
       "Brooklyn             333.0  \n",
       "Manhattan            333.0  \n",
       "Queens               325.0  \n",
       "Staten Island        300.0  "
      ]
     },
     "execution_count": 88,
     "metadata": {},
     "output_type": "execute_result"
    }
   ],
   "source": [
    "df_new.groupby(['neighbourhood_group'])['price'].describe()"
   ]
  },
  {
   "cell_type": "markdown",
   "id": "2c968af9-fe95-4d3d-9ef7-cefbc704836f",
   "metadata": {},
   "source": [
    "#### Violin plot"
   ]
  },
  {
   "cell_type": "code",
   "execution_count": 89,
   "id": "3e5de801-bfdf-47a6-b109-d7162e2e1bc6",
   "metadata": {},
   "outputs": [
    {
     "data": {
      "image/png": "[encoded data removed]",
      "text/plain": [
       "<Figure size 1500x600 with 1 Axes>"
      ]
     },
     "metadata": {},
     "output_type": "display_data"
    }
   ],
   "source": [
    "plt.figure(figsize = (15,6))\n",
    "sns.violinplot(x ='neighbourhood_group', y ='price',data = df_new)\n",
    "plt.title('Density and distribution of prices for each neighbourhood_group', fontsize = 20,color='r')\n",
    "plt.xlabel('neighbourhood_group',size=16,color='r')\n",
    "plt.ylabel('price',size=16,color='r')\n",
    "plt.grid()"
   ]
  },
  {
   "cell_type": "markdown",
   "id": "b244787d-6de5-44fc-b313-773524ec4de4",
   "metadata": {},
   "source": [
    "1. We can observe that Manhattan city has the highest range of prices for the listings with 135 price as median observation, followed by Brooklyn with price 90 per night"
   ]
  },
  {
   "cell_type": "markdown",
   "id": "903fb81e-7327-4403-a03e-3708542315be",
   "metadata": {},
   "source": [
    "2. Queens and Staten Island appear to have very similar distributions from median observation"
   ]
  },
  {
   "cell_type": "markdown",
   "id": "a3e313fb-ff2a-44d6-acad-76dcbfcdbfbf",
   "metadata": {},
   "source": [
    "3. Bronx is the cheapest of them all."
   ]
  },
  {
   "cell_type": "markdown",
   "id": "61ecdabf-b929-4da1-8f3f-a27ebf6564ae",
   "metadata": {},
   "source": [
    "#### Room type"
   ]
  },
  {
   "cell_type": "code",
   "execution_count": 90,
   "id": "e702718e-04af-4045-82db-42aafa01e712",
   "metadata": {},
   "outputs": [
    {
     "data": {
      "text/html": [
       "<div>\n",
       "<style scoped>\n",
       "    .dataframe tbody tr th:only-of-type {\n",
       "        vertical-align: middle;\n",
       "    }\n",
       "\n",
       "    .dataframe tbody tr th {\n",
       "        vertical-align: top;\n",
       "    }\n",
       "\n",
       "    .dataframe thead th {\n",
       "        text-align: right;\n",
       "    }\n",
       "</style>\n",
       "<table border=\"1\" class=\"dataframe\">\n",
       "  <thead>\n",
       "    <tr style=\"text-align: right;\">\n",
       "      <th></th>\n",
       "      <th>host_id</th>\n",
       "      <th>host_name</th>\n",
       "      <th>neighbourhood_group</th>\n",
       "      <th>neighbourhood</th>\n",
       "      <th>room_type</th>\n",
       "      <th>price</th>\n",
       "      <th>minimum_nights</th>\n",
       "      <th>number_of_reviews</th>\n",
       "      <th>reviews_per_month</th>\n",
       "      <th>calculated_host_listings_count</th>\n",
       "      <th>availability_365</th>\n",
       "    </tr>\n",
       "  </thead>\n",
       "  <tbody>\n",
       "    <tr>\n",
       "      <th>0</th>\n",
       "      <td>2787</td>\n",
       "      <td>John</td>\n",
       "      <td>Brooklyn</td>\n",
       "      <td>Kensington</td>\n",
       "      <td>Private room</td>\n",
       "      <td>149</td>\n",
       "      <td>1</td>\n",
       "      <td>9</td>\n",
       "      <td>0.210000</td>\n",
       "      <td>6</td>\n",
       "      <td>365</td>\n",
       "    </tr>\n",
       "    <tr>\n",
       "      <th>1</th>\n",
       "      <td>2845</td>\n",
       "      <td>Jennifer</td>\n",
       "      <td>Manhattan</td>\n",
       "      <td>Midtown</td>\n",
       "      <td>Entire home/apt</td>\n",
       "      <td>225</td>\n",
       "      <td>1</td>\n",
       "      <td>45</td>\n",
       "      <td>0.380000</td>\n",
       "      <td>2</td>\n",
       "      <td>355</td>\n",
       "    </tr>\n",
       "    <tr>\n",
       "      <th>2</th>\n",
       "      <td>4632</td>\n",
       "      <td>Elisabeth</td>\n",
       "      <td>Manhattan</td>\n",
       "      <td>Harlem</td>\n",
       "      <td>Private room</td>\n",
       "      <td>150</td>\n",
       "      <td>3</td>\n",
       "      <td>0</td>\n",
       "      <td>1.373221</td>\n",
       "      <td>1</td>\n",
       "      <td>365</td>\n",
       "    </tr>\n",
       "    <tr>\n",
       "      <th>3</th>\n",
       "      <td>4869</td>\n",
       "      <td>LisaRoxanne</td>\n",
       "      <td>Brooklyn</td>\n",
       "      <td>Clinton Hill</td>\n",
       "      <td>Entire home/apt</td>\n",
       "      <td>89</td>\n",
       "      <td>1</td>\n",
       "      <td>270</td>\n",
       "      <td>4.640000</td>\n",
       "      <td>1</td>\n",
       "      <td>194</td>\n",
       "    </tr>\n",
       "    <tr>\n",
       "      <th>4</th>\n",
       "      <td>7192</td>\n",
       "      <td>Laura</td>\n",
       "      <td>Manhattan</td>\n",
       "      <td>East Harlem</td>\n",
       "      <td>Entire home/apt</td>\n",
       "      <td>80</td>\n",
       "      <td>10</td>\n",
       "      <td>9</td>\n",
       "      <td>0.100000</td>\n",
       "      <td>1</td>\n",
       "      <td>0</td>\n",
       "    </tr>\n",
       "  </tbody>\n",
       "</table>\n",
       "</div>"
      ],
      "text/plain": [
       "   host_id    host_name neighbourhood_group neighbourhood        room_type  \\\n",
       "0     2787         John            Brooklyn    Kensington     Private room   \n",
       "1     2845     Jennifer           Manhattan       Midtown  Entire home/apt   \n",
       "2     4632    Elisabeth           Manhattan        Harlem     Private room   \n",
       "3     4869  LisaRoxanne            Brooklyn  Clinton Hill  Entire home/apt   \n",
       "4     7192        Laura           Manhattan   East Harlem  Entire home/apt   \n",
       "\n",
       "   price  minimum_nights  number_of_reviews  reviews_per_month  \\\n",
       "0    149               1                  9           0.210000   \n",
       "1    225               1                 45           0.380000   \n",
       "2    150               3                  0           1.373221   \n",
       "3     89               1                270           4.640000   \n",
       "4     80              10                  9           0.100000   \n",
       "\n",
       "   calculated_host_listings_count  availability_365  \n",
       "0                               6               365  \n",
       "1                               2               355  \n",
       "2                               1               365  \n",
       "3                               1               194  \n",
       "4                               1                 0  "
      ]
     },
     "execution_count": 90,
     "metadata": {},
     "output_type": "execute_result"
    }
   ],
   "source": [
    "df.head()"
   ]
  },
  {
   "cell_type": "code",
   "execution_count": 91,
   "id": "6876a5d7-3430-47e9-aa8c-818734191430",
   "metadata": {},
   "outputs": [
    {
     "data": {
      "text/plain": [
       "room_type\n",
       "Entire home/apt    25409\n",
       "Private room       22326\n",
       "Shared room         1160\n",
       "Name: count, dtype: int64"
      ]
     },
     "execution_count": 91,
     "metadata": {},
     "output_type": "execute_result"
    }
   ],
   "source": [
    "#Getting the value counts\n",
    "\n",
    "df['room_type'].value_counts()"
   ]
  },
  {
   "cell_type": "code",
   "execution_count": 92,
   "id": "96b9ddfd-0b2b-4299-934b-ae6346969786",
   "metadata": {},
   "outputs": [],
   "source": [
    "slices=df['room_type'].value_counts()\n",
    "room=['Entire home/apt','Private room','Shared room']"
   ]
  },
  {
   "cell_type": "markdown",
   "id": "99250da4-72fe-474e-bc0a-ad3ac362e9bb",
   "metadata": {},
   "source": [
    "#### Pie chart"
   ]
  },
  {
   "cell_type": "code",
   "execution_count": 94,
   "id": "d77c35fd-c348-470c-ba90-56eba50a1c89",
   "metadata": {},
   "outputs": [
    {
     "data": {
      "text/plain": [
       "Text(0.5, 1.0, 'Pie Chart for Room type')"
      ]
     },
     "execution_count": 94,
     "metadata": {},
     "output_type": "execute_result"
    },
    {
     "data": {
      "image/png": "[encoded data removed]",
      "text/plain": [
       "<Figure size 640x480 with 1 Axes>"
      ]
     },
     "metadata": {},
     "output_type": "display_data"
    }
   ],
   "source": [
    "plt.pie(slices,labels=room,explode=(0,0,0.1),autopct=\"%1.1f%%\")\n",
    "plt.title('Pie Chart for Room type',size=15,color='r')"
   ]
  },
  {
   "cell_type": "markdown",
   "id": "4e44e6e1-64dd-44a1-8bb0-a7265b08189c",
   "metadata": {},
   "source": [
    "1. Most of the people enlist their entire home or apartment in the Airbnb which constitutes to 52%\n",
    "according to the pie chart."
   ]
  },
  {
   "cell_type": "markdown",
   "id": "c0d29b32-a400-464b-8588-814c735a8d03",
   "metadata": {},
   "source": [
    "2. Followed by 45.7% people consider having private room"
   ]
  },
  {
   "cell_type": "markdown",
   "id": "85015843-75eb-4905-a202-a18e4487390e",
   "metadata": {},
   "source": [
    "3. and shared room is the least considered room type."
   ]
  },
  {
   "cell_type": "markdown",
   "id": "2b8a210f-fd26-4769-815c-82962431f8dc",
   "metadata": {},
   "source": [
    "#### Average Prices for different room type"
   ]
  },
  {
   "cell_type": "code",
   "execution_count": 95,
   "id": "5dae3008-6343-4f61-b544-8304d9a4140c",
   "metadata": {},
   "outputs": [
    {
     "data": {
      "text/html": [
       "<div>\n",
       "<style scoped>\n",
       "    .dataframe tbody tr th:only-of-type {\n",
       "        vertical-align: middle;\n",
       "    }\n",
       "\n",
       "    .dataframe tbody tr th {\n",
       "        vertical-align: top;\n",
       "    }\n",
       "\n",
       "    .dataframe thead th {\n",
       "        text-align: right;\n",
       "    }\n",
       "</style>\n",
       "<table border=\"1\" class=\"dataframe\">\n",
       "  <thead>\n",
       "    <tr style=\"text-align: right;\">\n",
       "      <th></th>\n",
       "      <th>host_id</th>\n",
       "      <th>host_name</th>\n",
       "      <th>neighbourhood_group</th>\n",
       "      <th>neighbourhood</th>\n",
       "      <th>room_type</th>\n",
       "      <th>price</th>\n",
       "      <th>minimum_nights</th>\n",
       "      <th>number_of_reviews</th>\n",
       "      <th>reviews_per_month</th>\n",
       "      <th>calculated_host_listings_count</th>\n",
       "      <th>availability_365</th>\n",
       "    </tr>\n",
       "  </thead>\n",
       "  <tbody>\n",
       "    <tr>\n",
       "      <th>0</th>\n",
       "      <td>2787</td>\n",
       "      <td>John</td>\n",
       "      <td>Brooklyn</td>\n",
       "      <td>Kensington</td>\n",
       "      <td>Private room</td>\n",
       "      <td>149</td>\n",
       "      <td>1</td>\n",
       "      <td>9</td>\n",
       "      <td>0.210000</td>\n",
       "      <td>6</td>\n",
       "      <td>365</td>\n",
       "    </tr>\n",
       "    <tr>\n",
       "      <th>1</th>\n",
       "      <td>2845</td>\n",
       "      <td>Jennifer</td>\n",
       "      <td>Manhattan</td>\n",
       "      <td>Midtown</td>\n",
       "      <td>Entire home/apt</td>\n",
       "      <td>225</td>\n",
       "      <td>1</td>\n",
       "      <td>45</td>\n",
       "      <td>0.380000</td>\n",
       "      <td>2</td>\n",
       "      <td>355</td>\n",
       "    </tr>\n",
       "    <tr>\n",
       "      <th>2</th>\n",
       "      <td>4632</td>\n",
       "      <td>Elisabeth</td>\n",
       "      <td>Manhattan</td>\n",
       "      <td>Harlem</td>\n",
       "      <td>Private room</td>\n",
       "      <td>150</td>\n",
       "      <td>3</td>\n",
       "      <td>0</td>\n",
       "      <td>1.373221</td>\n",
       "      <td>1</td>\n",
       "      <td>365</td>\n",
       "    </tr>\n",
       "    <tr>\n",
       "      <th>3</th>\n",
       "      <td>4869</td>\n",
       "      <td>LisaRoxanne</td>\n",
       "      <td>Brooklyn</td>\n",
       "      <td>Clinton Hill</td>\n",
       "      <td>Entire home/apt</td>\n",
       "      <td>89</td>\n",
       "      <td>1</td>\n",
       "      <td>270</td>\n",
       "      <td>4.640000</td>\n",
       "      <td>1</td>\n",
       "      <td>194</td>\n",
       "    </tr>\n",
       "    <tr>\n",
       "      <th>4</th>\n",
       "      <td>7192</td>\n",
       "      <td>Laura</td>\n",
       "      <td>Manhattan</td>\n",
       "      <td>East Harlem</td>\n",
       "      <td>Entire home/apt</td>\n",
       "      <td>80</td>\n",
       "      <td>10</td>\n",
       "      <td>9</td>\n",
       "      <td>0.100000</td>\n",
       "      <td>1</td>\n",
       "      <td>0</td>\n",
       "    </tr>\n",
       "  </tbody>\n",
       "</table>\n",
       "</div>"
      ],
      "text/plain": [
       "   host_id    host_name neighbourhood_group neighbourhood        room_type  \\\n",
       "0     2787         John            Brooklyn    Kensington     Private room   \n",
       "1     2845     Jennifer           Manhattan       Midtown  Entire home/apt   \n",
       "2     4632    Elisabeth           Manhattan        Harlem     Private room   \n",
       "3     4869  LisaRoxanne            Brooklyn  Clinton Hill  Entire home/apt   \n",
       "4     7192        Laura           Manhattan   East Harlem  Entire home/apt   \n",
       "\n",
       "   price  minimum_nights  number_of_reviews  reviews_per_month  \\\n",
       "0    149               1                  9           0.210000   \n",
       "1    225               1                 45           0.380000   \n",
       "2    150               3                  0           1.373221   \n",
       "3     89               1                270           4.640000   \n",
       "4     80              10                  9           0.100000   \n",
       "\n",
       "   calculated_host_listings_count  availability_365  \n",
       "0                               6               365  \n",
       "1                               2               355  \n",
       "2                               1               365  \n",
       "3                               1               194  \n",
       "4                               1                 0  "
      ]
     },
     "execution_count": 95,
     "metadata": {},
     "output_type": "execute_result"
    }
   ],
   "source": [
    "df.head()"
   ]
  },
  {
   "cell_type": "code",
   "execution_count": 96,
   "id": "727b2a97-275e-481c-b4a9-e3a41a4a1446",
   "metadata": {},
   "outputs": [
    {
     "data": {
      "text/plain": [
       "room_type\n",
       "Entire home/apt    211.794246\n",
       "Private room        89.780973\n",
       "Shared room         70.127586\n",
       "Name: price, dtype: float64"
      ]
     },
     "execution_count": 96,
     "metadata": {},
     "output_type": "execute_result"
    }
   ],
   "source": [
    "df.groupby('room_type')['price'].mean()"
   ]
  },
  {
   "cell_type": "code",
   "execution_count": 97,
   "id": "e34017f2-f436-432c-b56a-35541615fa62",
   "metadata": {},
   "outputs": [
    {
     "data": {
      "text/plain": [
       "Text(0.5, 1.0, 'Average Prices for different room type')"
      ]
     },
     "execution_count": 97,
     "metadata": {},
     "output_type": "execute_result"
    },
    {
     "data": {
      "image/png": "[encoded data removed]",
      "text/plain": [
       "<Figure size 1000x600 with 1 Axes>"
      ]
     },
     "metadata": {},
     "output_type": "display_data"
    }
   ],
   "source": [
    "x=df.groupby('room_type')['price'].mean()\n",
    "plt.figure(figsize=(10,6))\n",
    "x.plot(kind='bar',color='g')\n",
    "plt.xlabel('Room Type',size=15,color='r')\n",
    "plt.xticks(rotation =0)\n",
    "plt.ylabel('price',size=15,color='r')\n",
    "plt.title('Average Prices for different room type',size=15,color='g')"
   ]
  },
  {
   "cell_type": "markdown",
   "id": "a4c8deef-e4cb-4f3b-bff1-26c616d0bfee",
   "metadata": {},
   "source": [
    "The Average price of the room type \"Entire home or apartment\" is the highest followed by \"Private room\" type and \"shared room\" type"
   ]
  },
  {
   "cell_type": "markdown",
   "id": "7ec58e44-7879-490d-92b1-78c1c12fada8",
   "metadata": {},
   "source": [
    "#### Minimum nights for different room types"
   ]
  },
  {
   "cell_type": "code",
   "execution_count": 98,
   "id": "65d5621b-65b5-4c83-bcdb-745de1127413",
   "metadata": {},
   "outputs": [
    {
     "data": {
      "text/html": [
       "<div>\n",
       "<style scoped>\n",
       "    .dataframe tbody tr th:only-of-type {\n",
       "        vertical-align: middle;\n",
       "    }\n",
       "\n",
       "    .dataframe tbody tr th {\n",
       "        vertical-align: top;\n",
       "    }\n",
       "\n",
       "    .dataframe thead th {\n",
       "        text-align: right;\n",
       "    }\n",
       "</style>\n",
       "<table border=\"1\" class=\"dataframe\">\n",
       "  <thead>\n",
       "    <tr style=\"text-align: right;\">\n",
       "      <th></th>\n",
       "      <th>host_id</th>\n",
       "      <th>host_name</th>\n",
       "      <th>neighbourhood_group</th>\n",
       "      <th>neighbourhood</th>\n",
       "      <th>room_type</th>\n",
       "      <th>price</th>\n",
       "      <th>minimum_nights</th>\n",
       "      <th>number_of_reviews</th>\n",
       "      <th>reviews_per_month</th>\n",
       "      <th>calculated_host_listings_count</th>\n",
       "      <th>availability_365</th>\n",
       "    </tr>\n",
       "  </thead>\n",
       "  <tbody>\n",
       "    <tr>\n",
       "      <th>0</th>\n",
       "      <td>2787</td>\n",
       "      <td>John</td>\n",
       "      <td>Brooklyn</td>\n",
       "      <td>Kensington</td>\n",
       "      <td>Private room</td>\n",
       "      <td>149</td>\n",
       "      <td>1</td>\n",
       "      <td>9</td>\n",
       "      <td>0.210000</td>\n",
       "      <td>6</td>\n",
       "      <td>365</td>\n",
       "    </tr>\n",
       "    <tr>\n",
       "      <th>1</th>\n",
       "      <td>2845</td>\n",
       "      <td>Jennifer</td>\n",
       "      <td>Manhattan</td>\n",
       "      <td>Midtown</td>\n",
       "      <td>Entire home/apt</td>\n",
       "      <td>225</td>\n",
       "      <td>1</td>\n",
       "      <td>45</td>\n",
       "      <td>0.380000</td>\n",
       "      <td>2</td>\n",
       "      <td>355</td>\n",
       "    </tr>\n",
       "    <tr>\n",
       "      <th>2</th>\n",
       "      <td>4632</td>\n",
       "      <td>Elisabeth</td>\n",
       "      <td>Manhattan</td>\n",
       "      <td>Harlem</td>\n",
       "      <td>Private room</td>\n",
       "      <td>150</td>\n",
       "      <td>3</td>\n",
       "      <td>0</td>\n",
       "      <td>1.373221</td>\n",
       "      <td>1</td>\n",
       "      <td>365</td>\n",
       "    </tr>\n",
       "    <tr>\n",
       "      <th>3</th>\n",
       "      <td>4869</td>\n",
       "      <td>LisaRoxanne</td>\n",
       "      <td>Brooklyn</td>\n",
       "      <td>Clinton Hill</td>\n",
       "      <td>Entire home/apt</td>\n",
       "      <td>89</td>\n",
       "      <td>1</td>\n",
       "      <td>270</td>\n",
       "      <td>4.640000</td>\n",
       "      <td>1</td>\n",
       "      <td>194</td>\n",
       "    </tr>\n",
       "    <tr>\n",
       "      <th>4</th>\n",
       "      <td>7192</td>\n",
       "      <td>Laura</td>\n",
       "      <td>Manhattan</td>\n",
       "      <td>East Harlem</td>\n",
       "      <td>Entire home/apt</td>\n",
       "      <td>80</td>\n",
       "      <td>10</td>\n",
       "      <td>9</td>\n",
       "      <td>0.100000</td>\n",
       "      <td>1</td>\n",
       "      <td>0</td>\n",
       "    </tr>\n",
       "  </tbody>\n",
       "</table>\n",
       "</div>"
      ],
      "text/plain": [
       "   host_id    host_name neighbourhood_group neighbourhood        room_type  \\\n",
       "0     2787         John            Brooklyn    Kensington     Private room   \n",
       "1     2845     Jennifer           Manhattan       Midtown  Entire home/apt   \n",
       "2     4632    Elisabeth           Manhattan        Harlem     Private room   \n",
       "3     4869  LisaRoxanne            Brooklyn  Clinton Hill  Entire home/apt   \n",
       "4     7192        Laura           Manhattan   East Harlem  Entire home/apt   \n",
       "\n",
       "   price  minimum_nights  number_of_reviews  reviews_per_month  \\\n",
       "0    149               1                  9           0.210000   \n",
       "1    225               1                 45           0.380000   \n",
       "2    150               3                  0           1.373221   \n",
       "3     89               1                270           4.640000   \n",
       "4     80              10                  9           0.100000   \n",
       "\n",
       "   calculated_host_listings_count  availability_365  \n",
       "0                               6               365  \n",
       "1                               2               355  \n",
       "2                               1               365  \n",
       "3                               1               194  \n",
       "4                               1                 0  "
      ]
     },
     "execution_count": 98,
     "metadata": {},
     "output_type": "execute_result"
    }
   ],
   "source": [
    "df.head()"
   ]
  },
  {
   "cell_type": "code",
   "execution_count": 99,
   "id": "f804f644-1b14-430c-b96e-85c8a096aa38",
   "metadata": {},
   "outputs": [
    {
     "data": {
      "text/plain": [
       "room_type\n",
       "Entire home/apt    8.506907\n",
       "Private room       5.377900\n",
       "Shared room        6.475000\n",
       "Name: minimum_nights, dtype: float64"
      ]
     },
     "execution_count": 99,
     "metadata": {},
     "output_type": "execute_result"
    }
   ],
   "source": [
    "# Getting the average of the minimum nights to be stayed in the different room types\n",
    "\n",
    "df.groupby(['room_type'])['minimum_nights'].mean()"
   ]
  },
  {
   "cell_type": "code",
   "execution_count": 100,
   "id": "9105f8d8-319d-4e3d-b57c-aceeaba3f456",
   "metadata": {},
   "outputs": [
    {
     "data": {
      "text/plain": [
       "Text(0.5, 1.0, 'Minimum average stay')"
      ]
     },
     "execution_count": 100,
     "metadata": {},
     "output_type": "execute_result"
    },
    {
     "data": {
      "image/png": "[encoded data removed]",
      "text/plain": [
       "<Figure size 1000x500 with 1 Axes>"
      ]
     },
     "metadata": {},
     "output_type": "display_data"
    }
   ],
   "source": [
    "x=df.groupby(['room_type'])['minimum_nights'].mean()\n",
    "plt.figure(figsize=(10,5))\n",
    "x.plot(kind='bar',color='b')\n",
    "plt.xlabel('Room Type',size=13,color='r')\n",
    "plt.xticks(rotation =0)\n",
    "plt.ylabel('Mean Days',size=13,color='r')\n",
    "plt.title('Minimum average stay',size=20,color='g')"
   ]
  },
  {
   "cell_type": "markdown",
   "id": "757bca9d-9b9a-4c9e-aadc-511a9ffbaedc",
   "metadata": {},
   "source": [
    "1. The mimimum days to stays in entire home/apt is approx 9 days, also it has maximum price."
   ]
  },
  {
   "cell_type": "markdown",
   "id": "0830214b-e8e5-4d3e-b632-c9f04bb42404",
   "metadata": {},
   "source": [
    "2. The minimum days to stay for private room 5 days"
   ]
  },
  {
   "cell_type": "markdown",
   "id": "cc5f75cc-011d-4300-afa3-8f90e929d5a7",
   "metadata": {},
   "source": [
    "3. The minimum days to stay for shared room is 6 days."
   ]
  },
  {
   "cell_type": "markdown",
   "id": "a6d5d4a4-3668-439d-b95f-53444392cfdd",
   "metadata": {},
   "source": [
    "#### Neighbouthood group with respect to room type"
   ]
  },
  {
   "cell_type": "code",
   "execution_count": 101,
   "id": "00898dc3-f7a6-4b8b-9597-44acb7dcd214",
   "metadata": {},
   "outputs": [
    {
     "data": {
      "text/html": [
       "<div>\n",
       "<style scoped>\n",
       "    .dataframe tbody tr th:only-of-type {\n",
       "        vertical-align: middle;\n",
       "    }\n",
       "\n",
       "    .dataframe tbody tr th {\n",
       "        vertical-align: top;\n",
       "    }\n",
       "\n",
       "    .dataframe thead th {\n",
       "        text-align: right;\n",
       "    }\n",
       "</style>\n",
       "<table border=\"1\" class=\"dataframe\">\n",
       "  <thead>\n",
       "    <tr style=\"text-align: right;\">\n",
       "      <th></th>\n",
       "      <th>host_id</th>\n",
       "      <th>host_name</th>\n",
       "      <th>neighbourhood_group</th>\n",
       "      <th>neighbourhood</th>\n",
       "      <th>room_type</th>\n",
       "      <th>price</th>\n",
       "      <th>minimum_nights</th>\n",
       "      <th>number_of_reviews</th>\n",
       "      <th>reviews_per_month</th>\n",
       "      <th>calculated_host_listings_count</th>\n",
       "      <th>availability_365</th>\n",
       "    </tr>\n",
       "  </thead>\n",
       "  <tbody>\n",
       "    <tr>\n",
       "      <th>0</th>\n",
       "      <td>2787</td>\n",
       "      <td>John</td>\n",
       "      <td>Brooklyn</td>\n",
       "      <td>Kensington</td>\n",
       "      <td>Private room</td>\n",
       "      <td>149</td>\n",
       "      <td>1</td>\n",
       "      <td>9</td>\n",
       "      <td>0.210000</td>\n",
       "      <td>6</td>\n",
       "      <td>365</td>\n",
       "    </tr>\n",
       "    <tr>\n",
       "      <th>1</th>\n",
       "      <td>2845</td>\n",
       "      <td>Jennifer</td>\n",
       "      <td>Manhattan</td>\n",
       "      <td>Midtown</td>\n",
       "      <td>Entire home/apt</td>\n",
       "      <td>225</td>\n",
       "      <td>1</td>\n",
       "      <td>45</td>\n",
       "      <td>0.380000</td>\n",
       "      <td>2</td>\n",
       "      <td>355</td>\n",
       "    </tr>\n",
       "    <tr>\n",
       "      <th>2</th>\n",
       "      <td>4632</td>\n",
       "      <td>Elisabeth</td>\n",
       "      <td>Manhattan</td>\n",
       "      <td>Harlem</td>\n",
       "      <td>Private room</td>\n",
       "      <td>150</td>\n",
       "      <td>3</td>\n",
       "      <td>0</td>\n",
       "      <td>1.373221</td>\n",
       "      <td>1</td>\n",
       "      <td>365</td>\n",
       "    </tr>\n",
       "    <tr>\n",
       "      <th>3</th>\n",
       "      <td>4869</td>\n",
       "      <td>LisaRoxanne</td>\n",
       "      <td>Brooklyn</td>\n",
       "      <td>Clinton Hill</td>\n",
       "      <td>Entire home/apt</td>\n",
       "      <td>89</td>\n",
       "      <td>1</td>\n",
       "      <td>270</td>\n",
       "      <td>4.640000</td>\n",
       "      <td>1</td>\n",
       "      <td>194</td>\n",
       "    </tr>\n",
       "    <tr>\n",
       "      <th>4</th>\n",
       "      <td>7192</td>\n",
       "      <td>Laura</td>\n",
       "      <td>Manhattan</td>\n",
       "      <td>East Harlem</td>\n",
       "      <td>Entire home/apt</td>\n",
       "      <td>80</td>\n",
       "      <td>10</td>\n",
       "      <td>9</td>\n",
       "      <td>0.100000</td>\n",
       "      <td>1</td>\n",
       "      <td>0</td>\n",
       "    </tr>\n",
       "  </tbody>\n",
       "</table>\n",
       "</div>"
      ],
      "text/plain": [
       "   host_id    host_name neighbourhood_group neighbourhood        room_type  \\\n",
       "0     2787         John            Brooklyn    Kensington     Private room   \n",
       "1     2845     Jennifer           Manhattan       Midtown  Entire home/apt   \n",
       "2     4632    Elisabeth           Manhattan        Harlem     Private room   \n",
       "3     4869  LisaRoxanne            Brooklyn  Clinton Hill  Entire home/apt   \n",
       "4     7192        Laura           Manhattan   East Harlem  Entire home/apt   \n",
       "\n",
       "   price  minimum_nights  number_of_reviews  reviews_per_month  \\\n",
       "0    149               1                  9           0.210000   \n",
       "1    225               1                 45           0.380000   \n",
       "2    150               3                  0           1.373221   \n",
       "3     89               1                270           4.640000   \n",
       "4     80              10                  9           0.100000   \n",
       "\n",
       "   calculated_host_listings_count  availability_365  \n",
       "0                               6               365  \n",
       "1                               2               355  \n",
       "2                               1               365  \n",
       "3                               1               194  \n",
       "4                               1                 0  "
      ]
     },
     "execution_count": 101,
     "metadata": {},
     "output_type": "execute_result"
    }
   ],
   "source": [
    "df.head()"
   ]
  },
  {
   "cell_type": "code",
   "execution_count": 102,
   "id": "42f665d9-ba85-457e-aba7-e1a328d9690c",
   "metadata": {},
   "outputs": [
    {
     "data": {
      "text/plain": [
       "Text(0.5, 1.0, 'Room Type on Neighbourhood Group')"
      ]
     },
     "execution_count": 102,
     "metadata": {},
     "output_type": "execute_result"
    },
    {
     "data": {
      "image/png": "[encoded data removed]",
      "text/plain": [
       "<Figure size 1300x800 with 1 Axes>"
      ]
     },
     "metadata": {},
     "output_type": "display_data"
    }
   ],
   "source": [
    "plt.figure(figsize = (13,8))\n",
    "sns.countplot(x='neighbourhood_group', hue='room_type',data=df)\n",
    "plt.title(\"Room Type on Neighbourhood Group\", fontsize = 15)"
   ]
  },
  {
   "cell_type": "markdown",
   "id": "325a699e-1f6b-469a-a01c-965c6c8ee12c",
   "metadata": {},
   "source": [
    "1. It looks like, the neighbourhood group Manhatten has the highest Entire home/apt amongst all othergroups."
   ]
  },
  {
   "cell_type": "markdown",
   "id": "6cae08f0-8e60-432f-ba08-60cee88f9b7a",
   "metadata": {},
   "source": [
    "2. but Brooklyn has the most number of private rooms."
   ]
  },
  {
   "cell_type": "markdown",
   "id": "971cf6e3-66d6-4afd-ade0-d28c462355b0",
   "metadata": {},
   "source": [
    "3. Manhatten and Brooklyn has almost same number of Shared room."
   ]
  }
 ],
 "metadata": {
  "kernelspec": {
   "display_name": "Python 3 (ipykernel)",
   "language": "python",
   "name": "python3"
  },
  "language_info": {
   "codemirror_mode": {
    "name": "ipython",
    "version": 3
   },
   "file_extension": ".py",
   "mimetype": "text/x-python",
   "name": "python",
   "nbconvert_exporter": "python",
   "pygments_lexer": "ipython3",
   "version": "3.12.0"
  }
 },
 "nbformat": 4,
 "nbformat_minor": 5
}
